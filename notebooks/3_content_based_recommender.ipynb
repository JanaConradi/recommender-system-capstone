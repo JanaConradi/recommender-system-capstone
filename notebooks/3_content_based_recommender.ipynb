{
 "cells": [
  {
   "cell_type": "markdown",
   "metadata": {},
   "source": [
    "# 3. Content based model"
   ]
  },
  {
   "cell_type": "markdown",
   "metadata": {},
   "source": [
    "This notebook is about creating a content based recommendation model with the tmdb dataset. In contrast to collaborative filetering models where the user ratings are taken into account, contet based models are, as the name implies, based only on the conent of items. To define the conent, Natural Language Processing (NLP) tools are the most popular, whereby the user defines which texts should be used. The choice of texts again defines how similar the output recommendations are to the input item. For this project we tested different variants of texts as variables, so that the final recommendations are based e.g. only on the movie description or on the movie description + actors etc. and had a closer look on the meaningfulness of the outputs. "
   ]
  },
  {
   "cell_type": "code",
   "execution_count": 3,
   "metadata": {},
   "outputs": [
    {
     "name": "stderr",
     "output_type": "stream",
     "text": [
      "/Users/alexandrazimmermann/neue_fische/recommender-system-capstone/.venv/lib/python3.9/site-packages/pandas/compat/__init__.py:124: UserWarning: Could not import the lzma module. Your installed Python is incomplete. Attempting to use lzma compression will result in a RuntimeError.\n",
      "  warnings.warn(msg)\n"
     ]
    }
   ],
   "source": [
    "#Import requirements\n",
    "%matplotlib inline\n",
    "import pandas as pd\n",
    "import numpy as np\n",
    "import matplotlib.pyplot as plt\n",
    "import seaborn as sns\n",
    "from scipy import stats\n",
    "from ast import literal_eval\n",
    "from sklearn.feature_extraction.text import TfidfVectorizer, CountVectorizer\n",
    "from sklearn.metrics.pairwise import linear_kernel, cosine_similarity\n",
    "from nltk.stem.snowball import SnowballStemmer\n",
    "from nltk.stem.wordnet import WordNetLemmatizer\n",
    "from nltk.corpus import wordnet\n",
    "from surprise import Reader, Dataset, SVD#, evaluate"
   ]
  },
  {
   "cell_type": "markdown",
   "metadata": {},
   "source": [
    "### Load in the data"
   ]
  },
  {
   "cell_type": "code",
   "execution_count": 4,
   "metadata": {},
   "outputs": [],
   "source": [
    "#load data\n",
    "movielens_links = pd.read_csv('data/ml-latest-small/movies.csv')"
   ]
  },
  {
   "cell_type": "code",
   "execution_count": 5,
   "metadata": {},
   "outputs": [],
   "source": [
    "links_small = pd.read_csv('data/ml-latest-small/links.csv')\n",
    "links_small = links_small[links_small['tmdbId'].notnull()]['tmdbId'].astype('int')"
   ]
  },
  {
   "cell_type": "code",
   "execution_count": 6,
   "metadata": {},
   "outputs": [
    {
     "name": "stderr",
     "output_type": "stream",
     "text": [
      "/Users/alexandrazimmermann/neue_fische/recommender-system-capstone/.venv/lib/python3.9/site-packages/IPython/core/interactiveshell.py:3457: DtypeWarning: Columns (10) have mixed types.Specify dtype option on import or set low_memory=False.\n",
      "  exec(code_obj, self.user_global_ns, self.user_ns)\n"
     ]
    }
   ],
   "source": [
    "tmdb = pd. read_csv('data/tmdb/movies_metadata.csv')"
   ]
  },
  {
   "cell_type": "markdown",
   "metadata": {},
   "source": [
    "### Data cleaning"
   ]
  },
  {
   "cell_type": "code",
   "execution_count": 7,
   "metadata": {},
   "outputs": [],
   "source": [
    "# convert genres to list\n",
    "tmdb['genres'] = tmdb['genres'].fillna('[]').apply(literal_eval).apply(lambda x: [i['name'] for i in x] if isinstance(x, list) else [])"
   ]
  },
  {
   "cell_type": "code",
   "execution_count": 8,
   "metadata": {},
   "outputs": [],
   "source": [
    "# drop rows with non id values\n",
    "tmdb = tmdb.drop([19730, 29503, 35587])"
   ]
  },
  {
   "cell_type": "code",
   "execution_count": 9,
   "metadata": {},
   "outputs": [],
   "source": [
    "#convert id column to integer\n",
    "tmdb['id'] = tmdb['id'].astype('int')"
   ]
  },
  {
   "cell_type": "code",
   "execution_count": 10,
   "metadata": {},
   "outputs": [
    {
     "data": {
      "text/plain": [
       "(9553, 24)"
      ]
     },
     "execution_count": 10,
     "metadata": {},
     "output_type": "execute_result"
    }
   ],
   "source": [
    "#reduce metadata file (tmdb) to ids also found in movielens links file (links_small)\n",
    "smd = tmdb[tmdb['id'].isin(links_small)]\n",
    "smd.shape"
   ]
  },
  {
   "cell_type": "code",
   "execution_count": 11,
   "metadata": {},
   "outputs": [
    {
     "data": {
      "text/plain": [
       "39"
      ]
     },
     "execution_count": 11,
     "metadata": {},
     "output_type": "execute_result"
    }
   ],
   "source": [
    "#find duplicates\n",
    "smd.overview.duplicated().sum()"
   ]
  },
  {
   "cell_type": "code",
   "execution_count": 12,
   "metadata": {},
   "outputs": [],
   "source": [
    "# drop duplicates based on overview column\n",
    "smd = smd.drop_duplicates(subset=[\"overview\"])"
   ]
  },
  {
   "cell_type": "code",
   "execution_count": 13,
   "metadata": {},
   "outputs": [
    {
     "data": {
      "text/plain": [
       "[300]"
      ]
     },
     "execution_count": 13,
     "metadata": {},
     "output_type": "execute_result"
    }
   ],
   "source": [
    "# write NA value indices to list\n",
    "smd[smd['overview'].isnull()].index.tolist()"
   ]
  },
  {
   "cell_type": "code",
   "execution_count": 14,
   "metadata": {},
   "outputs": [],
   "source": [
    "#drop NA row in overview\n",
    "smd = smd.drop([300])"
   ]
  },
  {
   "cell_type": "code",
   "execution_count": 15,
   "metadata": {},
   "outputs": [
    {
     "data": {
      "text/plain": [
       "0"
      ]
     },
     "execution_count": 15,
     "metadata": {},
     "output_type": "execute_result"
    }
   ],
   "source": [
    "# find NA values in overview column\n",
    "smd.overview.isna().sum()"
   ]
  },
  {
   "cell_type": "code",
   "execution_count": 16,
   "metadata": {},
   "outputs": [
    {
     "data": {
      "text/html": [
       "<div>\n",
       "<style scoped>\n",
       "    .dataframe tbody tr th:only-of-type {\n",
       "        vertical-align: middle;\n",
       "    }\n",
       "\n",
       "    .dataframe tbody tr th {\n",
       "        vertical-align: top;\n",
       "    }\n",
       "\n",
       "    .dataframe thead th {\n",
       "        text-align: right;\n",
       "    }\n",
       "</style>\n",
       "<table border=\"1\" class=\"dataframe\">\n",
       "  <thead>\n",
       "    <tr style=\"text-align: right;\">\n",
       "      <th></th>\n",
       "      <th>adult</th>\n",
       "      <th>belongs_to_collection</th>\n",
       "      <th>budget</th>\n",
       "      <th>genres</th>\n",
       "      <th>homepage</th>\n",
       "      <th>id</th>\n",
       "      <th>imdb_id</th>\n",
       "      <th>original_language</th>\n",
       "      <th>original_title</th>\n",
       "      <th>overview</th>\n",
       "      <th>...</th>\n",
       "      <th>release_date</th>\n",
       "      <th>revenue</th>\n",
       "      <th>runtime</th>\n",
       "      <th>spoken_languages</th>\n",
       "      <th>status</th>\n",
       "      <th>tagline</th>\n",
       "      <th>title</th>\n",
       "      <th>video</th>\n",
       "      <th>vote_average</th>\n",
       "      <th>vote_count</th>\n",
       "    </tr>\n",
       "  </thead>\n",
       "  <tbody>\n",
       "    <tr>\n",
       "      <th>0</th>\n",
       "      <td>False</td>\n",
       "      <td>{'id': 10194, 'name': 'Toy Story Collection', ...</td>\n",
       "      <td>30000000</td>\n",
       "      <td>[Animation, Comedy, Family]</td>\n",
       "      <td>http://toystory.disney.com/toy-story</td>\n",
       "      <td>862</td>\n",
       "      <td>tt0114709</td>\n",
       "      <td>en</td>\n",
       "      <td>Toy Story</td>\n",
       "      <td>Led by Woody, Andy's toys live happily in his ...</td>\n",
       "      <td>...</td>\n",
       "      <td>1995-10-30</td>\n",
       "      <td>373554033.0</td>\n",
       "      <td>81.0</td>\n",
       "      <td>[{'iso_639_1': 'en', 'name': 'English'}]</td>\n",
       "      <td>Released</td>\n",
       "      <td>NaN</td>\n",
       "      <td>Toy Story</td>\n",
       "      <td>False</td>\n",
       "      <td>7.7</td>\n",
       "      <td>5415.0</td>\n",
       "    </tr>\n",
       "    <tr>\n",
       "      <th>1</th>\n",
       "      <td>False</td>\n",
       "      <td>NaN</td>\n",
       "      <td>65000000</td>\n",
       "      <td>[Adventure, Fantasy, Family]</td>\n",
       "      <td>NaN</td>\n",
       "      <td>8844</td>\n",
       "      <td>tt0113497</td>\n",
       "      <td>en</td>\n",
       "      <td>Jumanji</td>\n",
       "      <td>When siblings Judy and Peter discover an encha...</td>\n",
       "      <td>...</td>\n",
       "      <td>1995-12-15</td>\n",
       "      <td>262797249.0</td>\n",
       "      <td>104.0</td>\n",
       "      <td>[{'iso_639_1': 'en', 'name': 'English'}, {'iso...</td>\n",
       "      <td>Released</td>\n",
       "      <td>Roll the dice and unleash the excitement!</td>\n",
       "      <td>Jumanji</td>\n",
       "      <td>False</td>\n",
       "      <td>6.9</td>\n",
       "      <td>2413.0</td>\n",
       "    </tr>\n",
       "    <tr>\n",
       "      <th>2</th>\n",
       "      <td>False</td>\n",
       "      <td>{'id': 119050, 'name': 'Grumpy Old Men Collect...</td>\n",
       "      <td>0</td>\n",
       "      <td>[Romance, Comedy]</td>\n",
       "      <td>NaN</td>\n",
       "      <td>15602</td>\n",
       "      <td>tt0113228</td>\n",
       "      <td>en</td>\n",
       "      <td>Grumpier Old Men</td>\n",
       "      <td>A family wedding reignites the ancient feud be...</td>\n",
       "      <td>...</td>\n",
       "      <td>1995-12-22</td>\n",
       "      <td>0.0</td>\n",
       "      <td>101.0</td>\n",
       "      <td>[{'iso_639_1': 'en', 'name': 'English'}]</td>\n",
       "      <td>Released</td>\n",
       "      <td>Still Yelling. Still Fighting. Still Ready for...</td>\n",
       "      <td>Grumpier Old Men</td>\n",
       "      <td>False</td>\n",
       "      <td>6.5</td>\n",
       "      <td>92.0</td>\n",
       "    </tr>\n",
       "    <tr>\n",
       "      <th>3</th>\n",
       "      <td>False</td>\n",
       "      <td>NaN</td>\n",
       "      <td>16000000</td>\n",
       "      <td>[Comedy, Drama, Romance]</td>\n",
       "      <td>NaN</td>\n",
       "      <td>31357</td>\n",
       "      <td>tt0114885</td>\n",
       "      <td>en</td>\n",
       "      <td>Waiting to Exhale</td>\n",
       "      <td>Cheated on, mistreated and stepped on, the wom...</td>\n",
       "      <td>...</td>\n",
       "      <td>1995-12-22</td>\n",
       "      <td>81452156.0</td>\n",
       "      <td>127.0</td>\n",
       "      <td>[{'iso_639_1': 'en', 'name': 'English'}]</td>\n",
       "      <td>Released</td>\n",
       "      <td>Friends are the people who let you be yourself...</td>\n",
       "      <td>Waiting to Exhale</td>\n",
       "      <td>False</td>\n",
       "      <td>6.1</td>\n",
       "      <td>34.0</td>\n",
       "    </tr>\n",
       "    <tr>\n",
       "      <th>4</th>\n",
       "      <td>False</td>\n",
       "      <td>{'id': 96871, 'name': 'Father of the Bride Col...</td>\n",
       "      <td>0</td>\n",
       "      <td>[Comedy]</td>\n",
       "      <td>NaN</td>\n",
       "      <td>11862</td>\n",
       "      <td>tt0113041</td>\n",
       "      <td>en</td>\n",
       "      <td>Father of the Bride Part II</td>\n",
       "      <td>Just when George Banks has recovered from his ...</td>\n",
       "      <td>...</td>\n",
       "      <td>1995-02-10</td>\n",
       "      <td>76578911.0</td>\n",
       "      <td>106.0</td>\n",
       "      <td>[{'iso_639_1': 'en', 'name': 'English'}]</td>\n",
       "      <td>Released</td>\n",
       "      <td>Just When His World Is Back To Normal... He's ...</td>\n",
       "      <td>Father of the Bride Part II</td>\n",
       "      <td>False</td>\n",
       "      <td>5.7</td>\n",
       "      <td>173.0</td>\n",
       "    </tr>\n",
       "  </tbody>\n",
       "</table>\n",
       "<p>5 rows × 24 columns</p>\n",
       "</div>"
      ],
      "text/plain": [
       "   adult                              belongs_to_collection    budget  \\\n",
       "0  False  {'id': 10194, 'name': 'Toy Story Collection', ...  30000000   \n",
       "1  False                                                NaN  65000000   \n",
       "2  False  {'id': 119050, 'name': 'Grumpy Old Men Collect...         0   \n",
       "3  False                                                NaN  16000000   \n",
       "4  False  {'id': 96871, 'name': 'Father of the Bride Col...         0   \n",
       "\n",
       "                         genres                              homepage     id  \\\n",
       "0   [Animation, Comedy, Family]  http://toystory.disney.com/toy-story    862   \n",
       "1  [Adventure, Fantasy, Family]                                   NaN   8844   \n",
       "2             [Romance, Comedy]                                   NaN  15602   \n",
       "3      [Comedy, Drama, Romance]                                   NaN  31357   \n",
       "4                      [Comedy]                                   NaN  11862   \n",
       "\n",
       "     imdb_id original_language               original_title  \\\n",
       "0  tt0114709                en                    Toy Story   \n",
       "1  tt0113497                en                      Jumanji   \n",
       "2  tt0113228                en             Grumpier Old Men   \n",
       "3  tt0114885                en            Waiting to Exhale   \n",
       "4  tt0113041                en  Father of the Bride Part II   \n",
       "\n",
       "                                            overview  ... release_date  \\\n",
       "0  Led by Woody, Andy's toys live happily in his ...  ...   1995-10-30   \n",
       "1  When siblings Judy and Peter discover an encha...  ...   1995-12-15   \n",
       "2  A family wedding reignites the ancient feud be...  ...   1995-12-22   \n",
       "3  Cheated on, mistreated and stepped on, the wom...  ...   1995-12-22   \n",
       "4  Just when George Banks has recovered from his ...  ...   1995-02-10   \n",
       "\n",
       "       revenue runtime                                   spoken_languages  \\\n",
       "0  373554033.0    81.0           [{'iso_639_1': 'en', 'name': 'English'}]   \n",
       "1  262797249.0   104.0  [{'iso_639_1': 'en', 'name': 'English'}, {'iso...   \n",
       "2          0.0   101.0           [{'iso_639_1': 'en', 'name': 'English'}]   \n",
       "3   81452156.0   127.0           [{'iso_639_1': 'en', 'name': 'English'}]   \n",
       "4   76578911.0   106.0           [{'iso_639_1': 'en', 'name': 'English'}]   \n",
       "\n",
       "     status                                            tagline  \\\n",
       "0  Released                                                NaN   \n",
       "1  Released          Roll the dice and unleash the excitement!   \n",
       "2  Released  Still Yelling. Still Fighting. Still Ready for...   \n",
       "3  Released  Friends are the people who let you be yourself...   \n",
       "4  Released  Just When His World Is Back To Normal... He's ...   \n",
       "\n",
       "                         title  video vote_average vote_count  \n",
       "0                    Toy Story  False          7.7     5415.0  \n",
       "1                      Jumanji  False          6.9     2413.0  \n",
       "2             Grumpier Old Men  False          6.5       92.0  \n",
       "3            Waiting to Exhale  False          6.1       34.0  \n",
       "4  Father of the Bride Part II  False          5.7      173.0  \n",
       "\n",
       "[5 rows x 24 columns]"
      ]
     },
     "execution_count": 16,
     "metadata": {},
     "output_type": "execute_result"
    }
   ],
   "source": [
    "smd.head()"
   ]
  },
  {
   "cell_type": "markdown",
   "metadata": {},
   "source": [
    "### Creation of fist model based only on overview\n"
   ]
  },
  {
   "cell_type": "markdown",
   "metadata": {},
   "source": [
    "This is a first model where only the movie description (overview) was used as base for the recommenadtions."
   ]
  },
  {
   "cell_type": "code",
   "execution_count": 17,
   "metadata": {},
   "outputs": [],
   "source": [
    "#use NLP \n",
    "tf = TfidfVectorizer(analyzer='word',ngram_range=(1, 2),min_df=0, stop_words='english')\n",
    "tfidf_matrix = tf.fit_transform(smd['overview'])"
   ]
  },
  {
   "cell_type": "code",
   "execution_count": 18,
   "metadata": {},
   "outputs": [],
   "source": [
    "#calculate similarity with cosine similarity measure\n",
    "cosine_sim = linear_kernel(tfidf_matrix, tfidf_matrix)"
   ]
  },
  {
   "cell_type": "code",
   "execution_count": 19,
   "metadata": {},
   "outputs": [
    {
     "data": {
      "text/html": [
       "<div>\n",
       "<style scoped>\n",
       "    .dataframe tbody tr th:only-of-type {\n",
       "        vertical-align: middle;\n",
       "    }\n",
       "\n",
       "    .dataframe tbody tr th {\n",
       "        vertical-align: top;\n",
       "    }\n",
       "\n",
       "    .dataframe thead th {\n",
       "        text-align: right;\n",
       "    }\n",
       "</style>\n",
       "<table border=\"1\" class=\"dataframe\">\n",
       "  <thead>\n",
       "    <tr style=\"text-align: right;\">\n",
       "      <th></th>\n",
       "      <th>adult</th>\n",
       "      <th>belongs_to_collection</th>\n",
       "      <th>budget</th>\n",
       "      <th>genres</th>\n",
       "      <th>homepage</th>\n",
       "      <th>id</th>\n",
       "      <th>imdb_id</th>\n",
       "      <th>original_language</th>\n",
       "      <th>original_title</th>\n",
       "      <th>overview</th>\n",
       "      <th>...</th>\n",
       "      <th>release_date</th>\n",
       "      <th>revenue</th>\n",
       "      <th>runtime</th>\n",
       "      <th>spoken_languages</th>\n",
       "      <th>status</th>\n",
       "      <th>tagline</th>\n",
       "      <th>title</th>\n",
       "      <th>video</th>\n",
       "      <th>vote_average</th>\n",
       "      <th>vote_count</th>\n",
       "    </tr>\n",
       "  </thead>\n",
       "  <tbody>\n",
       "    <tr>\n",
       "      <th>0</th>\n",
       "      <td>False</td>\n",
       "      <td>{'id': 10194, 'name': 'Toy Story Collection', ...</td>\n",
       "      <td>30000000</td>\n",
       "      <td>[Animation, Comedy, Family]</td>\n",
       "      <td>http://toystory.disney.com/toy-story</td>\n",
       "      <td>862</td>\n",
       "      <td>tt0114709</td>\n",
       "      <td>en</td>\n",
       "      <td>Toy Story</td>\n",
       "      <td>Led by Woody, Andy's toys live happily in his ...</td>\n",
       "      <td>...</td>\n",
       "      <td>1995-10-30</td>\n",
       "      <td>373554033.0</td>\n",
       "      <td>81.0</td>\n",
       "      <td>[{'iso_639_1': 'en', 'name': 'English'}]</td>\n",
       "      <td>Released</td>\n",
       "      <td>NaN</td>\n",
       "      <td>Toy Story</td>\n",
       "      <td>False</td>\n",
       "      <td>7.7</td>\n",
       "      <td>5415.0</td>\n",
       "    </tr>\n",
       "    <tr>\n",
       "      <th>1</th>\n",
       "      <td>False</td>\n",
       "      <td>NaN</td>\n",
       "      <td>65000000</td>\n",
       "      <td>[Adventure, Fantasy, Family]</td>\n",
       "      <td>NaN</td>\n",
       "      <td>8844</td>\n",
       "      <td>tt0113497</td>\n",
       "      <td>en</td>\n",
       "      <td>Jumanji</td>\n",
       "      <td>When siblings Judy and Peter discover an encha...</td>\n",
       "      <td>...</td>\n",
       "      <td>1995-12-15</td>\n",
       "      <td>262797249.0</td>\n",
       "      <td>104.0</td>\n",
       "      <td>[{'iso_639_1': 'en', 'name': 'English'}, {'iso...</td>\n",
       "      <td>Released</td>\n",
       "      <td>Roll the dice and unleash the excitement!</td>\n",
       "      <td>Jumanji</td>\n",
       "      <td>False</td>\n",
       "      <td>6.9</td>\n",
       "      <td>2413.0</td>\n",
       "    </tr>\n",
       "    <tr>\n",
       "      <th>2</th>\n",
       "      <td>False</td>\n",
       "      <td>{'id': 119050, 'name': 'Grumpy Old Men Collect...</td>\n",
       "      <td>0</td>\n",
       "      <td>[Romance, Comedy]</td>\n",
       "      <td>NaN</td>\n",
       "      <td>15602</td>\n",
       "      <td>tt0113228</td>\n",
       "      <td>en</td>\n",
       "      <td>Grumpier Old Men</td>\n",
       "      <td>A family wedding reignites the ancient feud be...</td>\n",
       "      <td>...</td>\n",
       "      <td>1995-12-22</td>\n",
       "      <td>0.0</td>\n",
       "      <td>101.0</td>\n",
       "      <td>[{'iso_639_1': 'en', 'name': 'English'}]</td>\n",
       "      <td>Released</td>\n",
       "      <td>Still Yelling. Still Fighting. Still Ready for...</td>\n",
       "      <td>Grumpier Old Men</td>\n",
       "      <td>False</td>\n",
       "      <td>6.5</td>\n",
       "      <td>92.0</td>\n",
       "    </tr>\n",
       "    <tr>\n",
       "      <th>3</th>\n",
       "      <td>False</td>\n",
       "      <td>NaN</td>\n",
       "      <td>16000000</td>\n",
       "      <td>[Comedy, Drama, Romance]</td>\n",
       "      <td>NaN</td>\n",
       "      <td>31357</td>\n",
       "      <td>tt0114885</td>\n",
       "      <td>en</td>\n",
       "      <td>Waiting to Exhale</td>\n",
       "      <td>Cheated on, mistreated and stepped on, the wom...</td>\n",
       "      <td>...</td>\n",
       "      <td>1995-12-22</td>\n",
       "      <td>81452156.0</td>\n",
       "      <td>127.0</td>\n",
       "      <td>[{'iso_639_1': 'en', 'name': 'English'}]</td>\n",
       "      <td>Released</td>\n",
       "      <td>Friends are the people who let you be yourself...</td>\n",
       "      <td>Waiting to Exhale</td>\n",
       "      <td>False</td>\n",
       "      <td>6.1</td>\n",
       "      <td>34.0</td>\n",
       "    </tr>\n",
       "    <tr>\n",
       "      <th>4</th>\n",
       "      <td>False</td>\n",
       "      <td>{'id': 96871, 'name': 'Father of the Bride Col...</td>\n",
       "      <td>0</td>\n",
       "      <td>[Comedy]</td>\n",
       "      <td>NaN</td>\n",
       "      <td>11862</td>\n",
       "      <td>tt0113041</td>\n",
       "      <td>en</td>\n",
       "      <td>Father of the Bride Part II</td>\n",
       "      <td>Just when George Banks has recovered from his ...</td>\n",
       "      <td>...</td>\n",
       "      <td>1995-02-10</td>\n",
       "      <td>76578911.0</td>\n",
       "      <td>106.0</td>\n",
       "      <td>[{'iso_639_1': 'en', 'name': 'English'}]</td>\n",
       "      <td>Released</td>\n",
       "      <td>Just When His World Is Back To Normal... He's ...</td>\n",
       "      <td>Father of the Bride Part II</td>\n",
       "      <td>False</td>\n",
       "      <td>5.7</td>\n",
       "      <td>173.0</td>\n",
       "    </tr>\n",
       "  </tbody>\n",
       "</table>\n",
       "<p>5 rows × 24 columns</p>\n",
       "</div>"
      ],
      "text/plain": [
       "   adult                              belongs_to_collection    budget  \\\n",
       "0  False  {'id': 10194, 'name': 'Toy Story Collection', ...  30000000   \n",
       "1  False                                                NaN  65000000   \n",
       "2  False  {'id': 119050, 'name': 'Grumpy Old Men Collect...         0   \n",
       "3  False                                                NaN  16000000   \n",
       "4  False  {'id': 96871, 'name': 'Father of the Bride Col...         0   \n",
       "\n",
       "                         genres                              homepage     id  \\\n",
       "0   [Animation, Comedy, Family]  http://toystory.disney.com/toy-story    862   \n",
       "1  [Adventure, Fantasy, Family]                                   NaN   8844   \n",
       "2             [Romance, Comedy]                                   NaN  15602   \n",
       "3      [Comedy, Drama, Romance]                                   NaN  31357   \n",
       "4                      [Comedy]                                   NaN  11862   \n",
       "\n",
       "     imdb_id original_language               original_title  \\\n",
       "0  tt0114709                en                    Toy Story   \n",
       "1  tt0113497                en                      Jumanji   \n",
       "2  tt0113228                en             Grumpier Old Men   \n",
       "3  tt0114885                en            Waiting to Exhale   \n",
       "4  tt0113041                en  Father of the Bride Part II   \n",
       "\n",
       "                                            overview  ... release_date  \\\n",
       "0  Led by Woody, Andy's toys live happily in his ...  ...   1995-10-30   \n",
       "1  When siblings Judy and Peter discover an encha...  ...   1995-12-15   \n",
       "2  A family wedding reignites the ancient feud be...  ...   1995-12-22   \n",
       "3  Cheated on, mistreated and stepped on, the wom...  ...   1995-12-22   \n",
       "4  Just when George Banks has recovered from his ...  ...   1995-02-10   \n",
       "\n",
       "       revenue runtime                                   spoken_languages  \\\n",
       "0  373554033.0    81.0           [{'iso_639_1': 'en', 'name': 'English'}]   \n",
       "1  262797249.0   104.0  [{'iso_639_1': 'en', 'name': 'English'}, {'iso...   \n",
       "2          0.0   101.0           [{'iso_639_1': 'en', 'name': 'English'}]   \n",
       "3   81452156.0   127.0           [{'iso_639_1': 'en', 'name': 'English'}]   \n",
       "4   76578911.0   106.0           [{'iso_639_1': 'en', 'name': 'English'}]   \n",
       "\n",
       "     status                                            tagline  \\\n",
       "0  Released                                                NaN   \n",
       "1  Released          Roll the dice and unleash the excitement!   \n",
       "2  Released  Still Yelling. Still Fighting. Still Ready for...   \n",
       "3  Released  Friends are the people who let you be yourself...   \n",
       "4  Released  Just When His World Is Back To Normal... He's ...   \n",
       "\n",
       "                         title  video vote_average vote_count  \n",
       "0                    Toy Story  False          7.7     5415.0  \n",
       "1                      Jumanji  False          6.9     2413.0  \n",
       "2             Grumpier Old Men  False          6.5       92.0  \n",
       "3            Waiting to Exhale  False          6.1       34.0  \n",
       "4  Father of the Bride Part II  False          5.7      173.0  \n",
       "\n",
       "[5 rows x 24 columns]"
      ]
     },
     "execution_count": 19,
     "metadata": {},
     "output_type": "execute_result"
    }
   ],
   "source": [
    "smd.head()"
   ]
  },
  {
   "cell_type": "markdown",
   "metadata": {},
   "source": [
    "The index has to be reset due to missing numbers"
   ]
  },
  {
   "cell_type": "code",
   "execution_count": 20,
   "metadata": {},
   "outputs": [],
   "source": [
    "#reset index \n",
    "smd = smd.reset_index()\n",
    "#define titles series\n",
    "titles = smd['title']\n",
    "#define indices series\n",
    "indices = pd.Series(smd.index, index=smd['title'])"
   ]
  },
  {
   "cell_type": "code",
   "execution_count": 21,
   "metadata": {},
   "outputs": [
    {
     "data": {
      "text/html": [
       "<div>\n",
       "<style scoped>\n",
       "    .dataframe tbody tr th:only-of-type {\n",
       "        vertical-align: middle;\n",
       "    }\n",
       "\n",
       "    .dataframe tbody tr th {\n",
       "        vertical-align: top;\n",
       "    }\n",
       "\n",
       "    .dataframe thead th {\n",
       "        text-align: right;\n",
       "    }\n",
       "</style>\n",
       "<table border=\"1\" class=\"dataframe\">\n",
       "  <thead>\n",
       "    <tr style=\"text-align: right;\">\n",
       "      <th></th>\n",
       "      <th>index</th>\n",
       "      <th>adult</th>\n",
       "      <th>belongs_to_collection</th>\n",
       "      <th>budget</th>\n",
       "      <th>genres</th>\n",
       "      <th>homepage</th>\n",
       "      <th>id</th>\n",
       "      <th>imdb_id</th>\n",
       "      <th>original_language</th>\n",
       "      <th>original_title</th>\n",
       "      <th>...</th>\n",
       "      <th>release_date</th>\n",
       "      <th>revenue</th>\n",
       "      <th>runtime</th>\n",
       "      <th>spoken_languages</th>\n",
       "      <th>status</th>\n",
       "      <th>tagline</th>\n",
       "      <th>title</th>\n",
       "      <th>video</th>\n",
       "      <th>vote_average</th>\n",
       "      <th>vote_count</th>\n",
       "    </tr>\n",
       "  </thead>\n",
       "  <tbody>\n",
       "    <tr>\n",
       "      <th>0</th>\n",
       "      <td>0</td>\n",
       "      <td>False</td>\n",
       "      <td>{'id': 10194, 'name': 'Toy Story Collection', ...</td>\n",
       "      <td>30000000</td>\n",
       "      <td>[Animation, Comedy, Family]</td>\n",
       "      <td>http://toystory.disney.com/toy-story</td>\n",
       "      <td>862</td>\n",
       "      <td>tt0114709</td>\n",
       "      <td>en</td>\n",
       "      <td>Toy Story</td>\n",
       "      <td>...</td>\n",
       "      <td>1995-10-30</td>\n",
       "      <td>373554033.0</td>\n",
       "      <td>81.0</td>\n",
       "      <td>[{'iso_639_1': 'en', 'name': 'English'}]</td>\n",
       "      <td>Released</td>\n",
       "      <td>NaN</td>\n",
       "      <td>Toy Story</td>\n",
       "      <td>False</td>\n",
       "      <td>7.7</td>\n",
       "      <td>5415.0</td>\n",
       "    </tr>\n",
       "    <tr>\n",
       "      <th>1</th>\n",
       "      <td>1</td>\n",
       "      <td>False</td>\n",
       "      <td>NaN</td>\n",
       "      <td>65000000</td>\n",
       "      <td>[Adventure, Fantasy, Family]</td>\n",
       "      <td>NaN</td>\n",
       "      <td>8844</td>\n",
       "      <td>tt0113497</td>\n",
       "      <td>en</td>\n",
       "      <td>Jumanji</td>\n",
       "      <td>...</td>\n",
       "      <td>1995-12-15</td>\n",
       "      <td>262797249.0</td>\n",
       "      <td>104.0</td>\n",
       "      <td>[{'iso_639_1': 'en', 'name': 'English'}, {'iso...</td>\n",
       "      <td>Released</td>\n",
       "      <td>Roll the dice and unleash the excitement!</td>\n",
       "      <td>Jumanji</td>\n",
       "      <td>False</td>\n",
       "      <td>6.9</td>\n",
       "      <td>2413.0</td>\n",
       "    </tr>\n",
       "    <tr>\n",
       "      <th>2</th>\n",
       "      <td>2</td>\n",
       "      <td>False</td>\n",
       "      <td>{'id': 119050, 'name': 'Grumpy Old Men Collect...</td>\n",
       "      <td>0</td>\n",
       "      <td>[Romance, Comedy]</td>\n",
       "      <td>NaN</td>\n",
       "      <td>15602</td>\n",
       "      <td>tt0113228</td>\n",
       "      <td>en</td>\n",
       "      <td>Grumpier Old Men</td>\n",
       "      <td>...</td>\n",
       "      <td>1995-12-22</td>\n",
       "      <td>0.0</td>\n",
       "      <td>101.0</td>\n",
       "      <td>[{'iso_639_1': 'en', 'name': 'English'}]</td>\n",
       "      <td>Released</td>\n",
       "      <td>Still Yelling. Still Fighting. Still Ready for...</td>\n",
       "      <td>Grumpier Old Men</td>\n",
       "      <td>False</td>\n",
       "      <td>6.5</td>\n",
       "      <td>92.0</td>\n",
       "    </tr>\n",
       "    <tr>\n",
       "      <th>3</th>\n",
       "      <td>3</td>\n",
       "      <td>False</td>\n",
       "      <td>NaN</td>\n",
       "      <td>16000000</td>\n",
       "      <td>[Comedy, Drama, Romance]</td>\n",
       "      <td>NaN</td>\n",
       "      <td>31357</td>\n",
       "      <td>tt0114885</td>\n",
       "      <td>en</td>\n",
       "      <td>Waiting to Exhale</td>\n",
       "      <td>...</td>\n",
       "      <td>1995-12-22</td>\n",
       "      <td>81452156.0</td>\n",
       "      <td>127.0</td>\n",
       "      <td>[{'iso_639_1': 'en', 'name': 'English'}]</td>\n",
       "      <td>Released</td>\n",
       "      <td>Friends are the people who let you be yourself...</td>\n",
       "      <td>Waiting to Exhale</td>\n",
       "      <td>False</td>\n",
       "      <td>6.1</td>\n",
       "      <td>34.0</td>\n",
       "    </tr>\n",
       "    <tr>\n",
       "      <th>4</th>\n",
       "      <td>4</td>\n",
       "      <td>False</td>\n",
       "      <td>{'id': 96871, 'name': 'Father of the Bride Col...</td>\n",
       "      <td>0</td>\n",
       "      <td>[Comedy]</td>\n",
       "      <td>NaN</td>\n",
       "      <td>11862</td>\n",
       "      <td>tt0113041</td>\n",
       "      <td>en</td>\n",
       "      <td>Father of the Bride Part II</td>\n",
       "      <td>...</td>\n",
       "      <td>1995-02-10</td>\n",
       "      <td>76578911.0</td>\n",
       "      <td>106.0</td>\n",
       "      <td>[{'iso_639_1': 'en', 'name': 'English'}]</td>\n",
       "      <td>Released</td>\n",
       "      <td>Just When His World Is Back To Normal... He's ...</td>\n",
       "      <td>Father of the Bride Part II</td>\n",
       "      <td>False</td>\n",
       "      <td>5.7</td>\n",
       "      <td>173.0</td>\n",
       "    </tr>\n",
       "    <tr>\n",
       "      <th>5</th>\n",
       "      <td>5</td>\n",
       "      <td>False</td>\n",
       "      <td>NaN</td>\n",
       "      <td>60000000</td>\n",
       "      <td>[Action, Crime, Drama, Thriller]</td>\n",
       "      <td>NaN</td>\n",
       "      <td>949</td>\n",
       "      <td>tt0113277</td>\n",
       "      <td>en</td>\n",
       "      <td>Heat</td>\n",
       "      <td>...</td>\n",
       "      <td>1995-12-15</td>\n",
       "      <td>187436818.0</td>\n",
       "      <td>170.0</td>\n",
       "      <td>[{'iso_639_1': 'en', 'name': 'English'}, {'iso...</td>\n",
       "      <td>Released</td>\n",
       "      <td>A Los Angeles Crime Saga</td>\n",
       "      <td>Heat</td>\n",
       "      <td>False</td>\n",
       "      <td>7.7</td>\n",
       "      <td>1886.0</td>\n",
       "    </tr>\n",
       "    <tr>\n",
       "      <th>6</th>\n",
       "      <td>6</td>\n",
       "      <td>False</td>\n",
       "      <td>NaN</td>\n",
       "      <td>58000000</td>\n",
       "      <td>[Comedy, Romance]</td>\n",
       "      <td>NaN</td>\n",
       "      <td>11860</td>\n",
       "      <td>tt0114319</td>\n",
       "      <td>en</td>\n",
       "      <td>Sabrina</td>\n",
       "      <td>...</td>\n",
       "      <td>1995-12-15</td>\n",
       "      <td>0.0</td>\n",
       "      <td>127.0</td>\n",
       "      <td>[{'iso_639_1': 'fr', 'name': 'Français'}, {'is...</td>\n",
       "      <td>Released</td>\n",
       "      <td>You are cordially invited to the most surprisi...</td>\n",
       "      <td>Sabrina</td>\n",
       "      <td>False</td>\n",
       "      <td>6.2</td>\n",
       "      <td>141.0</td>\n",
       "    </tr>\n",
       "    <tr>\n",
       "      <th>7</th>\n",
       "      <td>7</td>\n",
       "      <td>False</td>\n",
       "      <td>NaN</td>\n",
       "      <td>0</td>\n",
       "      <td>[Action, Adventure, Drama, Family]</td>\n",
       "      <td>NaN</td>\n",
       "      <td>45325</td>\n",
       "      <td>tt0112302</td>\n",
       "      <td>en</td>\n",
       "      <td>Tom and Huck</td>\n",
       "      <td>...</td>\n",
       "      <td>1995-12-22</td>\n",
       "      <td>0.0</td>\n",
       "      <td>97.0</td>\n",
       "      <td>[{'iso_639_1': 'en', 'name': 'English'}, {'iso...</td>\n",
       "      <td>Released</td>\n",
       "      <td>The Original Bad Boys.</td>\n",
       "      <td>Tom and Huck</td>\n",
       "      <td>False</td>\n",
       "      <td>5.4</td>\n",
       "      <td>45.0</td>\n",
       "    </tr>\n",
       "    <tr>\n",
       "      <th>8</th>\n",
       "      <td>8</td>\n",
       "      <td>False</td>\n",
       "      <td>NaN</td>\n",
       "      <td>35000000</td>\n",
       "      <td>[Action, Adventure, Thriller]</td>\n",
       "      <td>NaN</td>\n",
       "      <td>9091</td>\n",
       "      <td>tt0114576</td>\n",
       "      <td>en</td>\n",
       "      <td>Sudden Death</td>\n",
       "      <td>...</td>\n",
       "      <td>1995-12-22</td>\n",
       "      <td>64350171.0</td>\n",
       "      <td>106.0</td>\n",
       "      <td>[{'iso_639_1': 'en', 'name': 'English'}]</td>\n",
       "      <td>Released</td>\n",
       "      <td>Terror goes into overtime.</td>\n",
       "      <td>Sudden Death</td>\n",
       "      <td>False</td>\n",
       "      <td>5.5</td>\n",
       "      <td>174.0</td>\n",
       "    </tr>\n",
       "    <tr>\n",
       "      <th>9</th>\n",
       "      <td>9</td>\n",
       "      <td>False</td>\n",
       "      <td>{'id': 645, 'name': 'James Bond Collection', '...</td>\n",
       "      <td>58000000</td>\n",
       "      <td>[Adventure, Action, Thriller]</td>\n",
       "      <td>http://www.mgm.com/view/movie/757/Goldeneye/</td>\n",
       "      <td>710</td>\n",
       "      <td>tt0113189</td>\n",
       "      <td>en</td>\n",
       "      <td>GoldenEye</td>\n",
       "      <td>...</td>\n",
       "      <td>1995-11-16</td>\n",
       "      <td>352194034.0</td>\n",
       "      <td>130.0</td>\n",
       "      <td>[{'iso_639_1': 'en', 'name': 'English'}, {'iso...</td>\n",
       "      <td>Released</td>\n",
       "      <td>No limits. No fears. No substitutes.</td>\n",
       "      <td>GoldenEye</td>\n",
       "      <td>False</td>\n",
       "      <td>6.6</td>\n",
       "      <td>1194.0</td>\n",
       "    </tr>\n",
       "    <tr>\n",
       "      <th>10</th>\n",
       "      <td>10</td>\n",
       "      <td>False</td>\n",
       "      <td>NaN</td>\n",
       "      <td>62000000</td>\n",
       "      <td>[Comedy, Drama, Romance]</td>\n",
       "      <td>NaN</td>\n",
       "      <td>9087</td>\n",
       "      <td>tt0112346</td>\n",
       "      <td>en</td>\n",
       "      <td>The American President</td>\n",
       "      <td>...</td>\n",
       "      <td>1995-11-17</td>\n",
       "      <td>107879496.0</td>\n",
       "      <td>106.0</td>\n",
       "      <td>[{'iso_639_1': 'en', 'name': 'English'}]</td>\n",
       "      <td>Released</td>\n",
       "      <td>Why can't the most powerful man in the world h...</td>\n",
       "      <td>The American President</td>\n",
       "      <td>False</td>\n",
       "      <td>6.5</td>\n",
       "      <td>199.0</td>\n",
       "    </tr>\n",
       "    <tr>\n",
       "      <th>11</th>\n",
       "      <td>11</td>\n",
       "      <td>False</td>\n",
       "      <td>NaN</td>\n",
       "      <td>0</td>\n",
       "      <td>[Comedy, Horror]</td>\n",
       "      <td>NaN</td>\n",
       "      <td>12110</td>\n",
       "      <td>tt0112896</td>\n",
       "      <td>en</td>\n",
       "      <td>Dracula: Dead and Loving It</td>\n",
       "      <td>...</td>\n",
       "      <td>1995-12-22</td>\n",
       "      <td>0.0</td>\n",
       "      <td>88.0</td>\n",
       "      <td>[{'iso_639_1': 'en', 'name': 'English'}, {'iso...</td>\n",
       "      <td>Released</td>\n",
       "      <td>NaN</td>\n",
       "      <td>Dracula: Dead and Loving It</td>\n",
       "      <td>False</td>\n",
       "      <td>5.7</td>\n",
       "      <td>210.0</td>\n",
       "    </tr>\n",
       "    <tr>\n",
       "      <th>12</th>\n",
       "      <td>12</td>\n",
       "      <td>False</td>\n",
       "      <td>{'id': 117693, 'name': 'Balto Collection', 'po...</td>\n",
       "      <td>0</td>\n",
       "      <td>[Family, Animation, Adventure]</td>\n",
       "      <td>NaN</td>\n",
       "      <td>21032</td>\n",
       "      <td>tt0112453</td>\n",
       "      <td>en</td>\n",
       "      <td>Balto</td>\n",
       "      <td>...</td>\n",
       "      <td>1995-12-22</td>\n",
       "      <td>11348324.0</td>\n",
       "      <td>78.0</td>\n",
       "      <td>[{'iso_639_1': 'en', 'name': 'English'}]</td>\n",
       "      <td>Released</td>\n",
       "      <td>Part Dog. Part Wolf. All Hero.</td>\n",
       "      <td>Balto</td>\n",
       "      <td>False</td>\n",
       "      <td>7.1</td>\n",
       "      <td>423.0</td>\n",
       "    </tr>\n",
       "    <tr>\n",
       "      <th>13</th>\n",
       "      <td>13</td>\n",
       "      <td>False</td>\n",
       "      <td>NaN</td>\n",
       "      <td>44000000</td>\n",
       "      <td>[History, Drama]</td>\n",
       "      <td>NaN</td>\n",
       "      <td>10858</td>\n",
       "      <td>tt0113987</td>\n",
       "      <td>en</td>\n",
       "      <td>Nixon</td>\n",
       "      <td>...</td>\n",
       "      <td>1995-12-22</td>\n",
       "      <td>13681765.0</td>\n",
       "      <td>192.0</td>\n",
       "      <td>[{'iso_639_1': 'en', 'name': 'English'}]</td>\n",
       "      <td>Released</td>\n",
       "      <td>Triumphant in Victory, Bitter in Defeat. He Ch...</td>\n",
       "      <td>Nixon</td>\n",
       "      <td>False</td>\n",
       "      <td>7.1</td>\n",
       "      <td>72.0</td>\n",
       "    </tr>\n",
       "    <tr>\n",
       "      <th>14</th>\n",
       "      <td>14</td>\n",
       "      <td>False</td>\n",
       "      <td>NaN</td>\n",
       "      <td>98000000</td>\n",
       "      <td>[Action, Adventure]</td>\n",
       "      <td>NaN</td>\n",
       "      <td>1408</td>\n",
       "      <td>tt0112760</td>\n",
       "      <td>en</td>\n",
       "      <td>Cutthroat Island</td>\n",
       "      <td>...</td>\n",
       "      <td>1995-12-22</td>\n",
       "      <td>10017322.0</td>\n",
       "      <td>119.0</td>\n",
       "      <td>[{'iso_639_1': 'en', 'name': 'English'}, {'iso...</td>\n",
       "      <td>Released</td>\n",
       "      <td>The Course Has Been Set. There Is No Turning B...</td>\n",
       "      <td>Cutthroat Island</td>\n",
       "      <td>False</td>\n",
       "      <td>5.7</td>\n",
       "      <td>137.0</td>\n",
       "    </tr>\n",
       "    <tr>\n",
       "      <th>15</th>\n",
       "      <td>15</td>\n",
       "      <td>False</td>\n",
       "      <td>NaN</td>\n",
       "      <td>52000000</td>\n",
       "      <td>[Drama, Crime]</td>\n",
       "      <td>NaN</td>\n",
       "      <td>524</td>\n",
       "      <td>tt0112641</td>\n",
       "      <td>en</td>\n",
       "      <td>Casino</td>\n",
       "      <td>...</td>\n",
       "      <td>1995-11-22</td>\n",
       "      <td>116112375.0</td>\n",
       "      <td>178.0</td>\n",
       "      <td>[{'iso_639_1': 'en', 'name': 'English'}]</td>\n",
       "      <td>Released</td>\n",
       "      <td>No one stays at the top forever.</td>\n",
       "      <td>Casino</td>\n",
       "      <td>False</td>\n",
       "      <td>7.8</td>\n",
       "      <td>1343.0</td>\n",
       "    </tr>\n",
       "    <tr>\n",
       "      <th>16</th>\n",
       "      <td>16</td>\n",
       "      <td>False</td>\n",
       "      <td>NaN</td>\n",
       "      <td>16500000</td>\n",
       "      <td>[Drama, Romance]</td>\n",
       "      <td>NaN</td>\n",
       "      <td>4584</td>\n",
       "      <td>tt0114388</td>\n",
       "      <td>en</td>\n",
       "      <td>Sense and Sensibility</td>\n",
       "      <td>...</td>\n",
       "      <td>1995-12-13</td>\n",
       "      <td>135000000.0</td>\n",
       "      <td>136.0</td>\n",
       "      <td>[{'iso_639_1': 'en', 'name': 'English'}]</td>\n",
       "      <td>Released</td>\n",
       "      <td>Lose your heart and come to your senses.</td>\n",
       "      <td>Sense and Sensibility</td>\n",
       "      <td>False</td>\n",
       "      <td>7.2</td>\n",
       "      <td>364.0</td>\n",
       "    </tr>\n",
       "    <tr>\n",
       "      <th>17</th>\n",
       "      <td>17</td>\n",
       "      <td>False</td>\n",
       "      <td>NaN</td>\n",
       "      <td>4000000</td>\n",
       "      <td>[Crime, Comedy]</td>\n",
       "      <td>NaN</td>\n",
       "      <td>5</td>\n",
       "      <td>tt0113101</td>\n",
       "      <td>en</td>\n",
       "      <td>Four Rooms</td>\n",
       "      <td>...</td>\n",
       "      <td>1995-12-09</td>\n",
       "      <td>4300000.0</td>\n",
       "      <td>98.0</td>\n",
       "      <td>[{'iso_639_1': 'en', 'name': 'English'}]</td>\n",
       "      <td>Released</td>\n",
       "      <td>Twelve outrageous guests. Four scandalous requ...</td>\n",
       "      <td>Four Rooms</td>\n",
       "      <td>False</td>\n",
       "      <td>6.5</td>\n",
       "      <td>539.0</td>\n",
       "    </tr>\n",
       "    <tr>\n",
       "      <th>18</th>\n",
       "      <td>18</td>\n",
       "      <td>False</td>\n",
       "      <td>{'id': 3167, 'name': 'Ace Ventura Collection',...</td>\n",
       "      <td>30000000</td>\n",
       "      <td>[Crime, Comedy, Adventure]</td>\n",
       "      <td>NaN</td>\n",
       "      <td>9273</td>\n",
       "      <td>tt0112281</td>\n",
       "      <td>en</td>\n",
       "      <td>Ace Ventura: When Nature Calls</td>\n",
       "      <td>...</td>\n",
       "      <td>1995-11-10</td>\n",
       "      <td>212385533.0</td>\n",
       "      <td>90.0</td>\n",
       "      <td>[{'iso_639_1': 'en', 'name': 'English'}]</td>\n",
       "      <td>Released</td>\n",
       "      <td>New animals. New adventures. Same hair.</td>\n",
       "      <td>Ace Ventura: When Nature Calls</td>\n",
       "      <td>False</td>\n",
       "      <td>6.1</td>\n",
       "      <td>1128.0</td>\n",
       "    </tr>\n",
       "    <tr>\n",
       "      <th>19</th>\n",
       "      <td>19</td>\n",
       "      <td>False</td>\n",
       "      <td>NaN</td>\n",
       "      <td>60000000</td>\n",
       "      <td>[Action, Comedy, Crime]</td>\n",
       "      <td>NaN</td>\n",
       "      <td>11517</td>\n",
       "      <td>tt0113845</td>\n",
       "      <td>en</td>\n",
       "      <td>Money Train</td>\n",
       "      <td>...</td>\n",
       "      <td>1995-11-21</td>\n",
       "      <td>35431113.0</td>\n",
       "      <td>103.0</td>\n",
       "      <td>[{'iso_639_1': 'en', 'name': 'English'}]</td>\n",
       "      <td>Released</td>\n",
       "      <td>Get on, or GET OUT THE WAY!</td>\n",
       "      <td>Money Train</td>\n",
       "      <td>False</td>\n",
       "      <td>5.4</td>\n",
       "      <td>224.0</td>\n",
       "    </tr>\n",
       "    <tr>\n",
       "      <th>20</th>\n",
       "      <td>20</td>\n",
       "      <td>False</td>\n",
       "      <td>{'id': 91698, 'name': 'Chili Palmer Collection...</td>\n",
       "      <td>30250000</td>\n",
       "      <td>[Comedy, Thriller, Crime]</td>\n",
       "      <td>NaN</td>\n",
       "      <td>8012</td>\n",
       "      <td>tt0113161</td>\n",
       "      <td>en</td>\n",
       "      <td>Get Shorty</td>\n",
       "      <td>...</td>\n",
       "      <td>1995-10-20</td>\n",
       "      <td>115101622.0</td>\n",
       "      <td>105.0</td>\n",
       "      <td>[{'iso_639_1': 'en', 'name': 'English'}]</td>\n",
       "      <td>Released</td>\n",
       "      <td>The mob is tough, but it’s nothing like show b...</td>\n",
       "      <td>Get Shorty</td>\n",
       "      <td>False</td>\n",
       "      <td>6.4</td>\n",
       "      <td>305.0</td>\n",
       "    </tr>\n",
       "    <tr>\n",
       "      <th>21</th>\n",
       "      <td>21</td>\n",
       "      <td>False</td>\n",
       "      <td>NaN</td>\n",
       "      <td>0</td>\n",
       "      <td>[Drama, Thriller]</td>\n",
       "      <td>NaN</td>\n",
       "      <td>1710</td>\n",
       "      <td>tt0112722</td>\n",
       "      <td>en</td>\n",
       "      <td>Copycat</td>\n",
       "      <td>...</td>\n",
       "      <td>1995-10-27</td>\n",
       "      <td>0.0</td>\n",
       "      <td>124.0</td>\n",
       "      <td>[{'iso_639_1': 'en', 'name': 'English'}, {'iso...</td>\n",
       "      <td>Released</td>\n",
       "      <td>One man is copying the most notorious killers ...</td>\n",
       "      <td>Copycat</td>\n",
       "      <td>False</td>\n",
       "      <td>6.5</td>\n",
       "      <td>199.0</td>\n",
       "    </tr>\n",
       "    <tr>\n",
       "      <th>22</th>\n",
       "      <td>22</td>\n",
       "      <td>False</td>\n",
       "      <td>NaN</td>\n",
       "      <td>50000000</td>\n",
       "      <td>[Action, Adventure, Crime, Thriller]</td>\n",
       "      <td>NaN</td>\n",
       "      <td>9691</td>\n",
       "      <td>tt0112401</td>\n",
       "      <td>en</td>\n",
       "      <td>Assassins</td>\n",
       "      <td>...</td>\n",
       "      <td>1995-10-06</td>\n",
       "      <td>30303072.0</td>\n",
       "      <td>132.0</td>\n",
       "      <td>[{'iso_639_1': 'en', 'name': 'English'}, {'iso...</td>\n",
       "      <td>Released</td>\n",
       "      <td>In the shadows of life, In the business of dea...</td>\n",
       "      <td>Assassins</td>\n",
       "      <td>False</td>\n",
       "      <td>6.0</td>\n",
       "      <td>394.0</td>\n",
       "    </tr>\n",
       "    <tr>\n",
       "      <th>23</th>\n",
       "      <td>23</td>\n",
       "      <td>False</td>\n",
       "      <td>NaN</td>\n",
       "      <td>0</td>\n",
       "      <td>[Drama, Fantasy, Science Fiction, Thriller]</td>\n",
       "      <td>NaN</td>\n",
       "      <td>12665</td>\n",
       "      <td>tt0114168</td>\n",
       "      <td>en</td>\n",
       "      <td>Powder</td>\n",
       "      <td>...</td>\n",
       "      <td>1995-10-27</td>\n",
       "      <td>0.0</td>\n",
       "      <td>111.0</td>\n",
       "      <td>[{'iso_639_1': 'en', 'name': 'English'}]</td>\n",
       "      <td>Released</td>\n",
       "      <td>An extraordinary encounter with another human ...</td>\n",
       "      <td>Powder</td>\n",
       "      <td>False</td>\n",
       "      <td>6.3</td>\n",
       "      <td>143.0</td>\n",
       "    </tr>\n",
       "    <tr>\n",
       "      <th>24</th>\n",
       "      <td>24</td>\n",
       "      <td>False</td>\n",
       "      <td>NaN</td>\n",
       "      <td>3600000</td>\n",
       "      <td>[Drama, Romance]</td>\n",
       "      <td>http://www.mgm.com/title_title.do?title_star=L...</td>\n",
       "      <td>451</td>\n",
       "      <td>tt0113627</td>\n",
       "      <td>en</td>\n",
       "      <td>Leaving Las Vegas</td>\n",
       "      <td>...</td>\n",
       "      <td>1995-10-27</td>\n",
       "      <td>49800000.0</td>\n",
       "      <td>112.0</td>\n",
       "      <td>[{'iso_639_1': 'en', 'name': 'English'}]</td>\n",
       "      <td>Released</td>\n",
       "      <td>I Love You... The Way You Are.</td>\n",
       "      <td>Leaving Las Vegas</td>\n",
       "      <td>False</td>\n",
       "      <td>7.1</td>\n",
       "      <td>365.0</td>\n",
       "    </tr>\n",
       "    <tr>\n",
       "      <th>25</th>\n",
       "      <td>25</td>\n",
       "      <td>False</td>\n",
       "      <td>NaN</td>\n",
       "      <td>0</td>\n",
       "      <td>[Drama]</td>\n",
       "      <td>NaN</td>\n",
       "      <td>16420</td>\n",
       "      <td>tt0114057</td>\n",
       "      <td>en</td>\n",
       "      <td>Othello</td>\n",
       "      <td>...</td>\n",
       "      <td>1995-12-15</td>\n",
       "      <td>0.0</td>\n",
       "      <td>123.0</td>\n",
       "      <td>[{'iso_639_1': 'en', 'name': 'English'}]</td>\n",
       "      <td>Released</td>\n",
       "      <td>Envy, greed, jealousy and love.</td>\n",
       "      <td>Othello</td>\n",
       "      <td>False</td>\n",
       "      <td>7.0</td>\n",
       "      <td>33.0</td>\n",
       "    </tr>\n",
       "    <tr>\n",
       "      <th>26</th>\n",
       "      <td>26</td>\n",
       "      <td>False</td>\n",
       "      <td>NaN</td>\n",
       "      <td>12000000</td>\n",
       "      <td>[Comedy, Drama, Family]</td>\n",
       "      <td>NaN</td>\n",
       "      <td>9263</td>\n",
       "      <td>tt0114011</td>\n",
       "      <td>en</td>\n",
       "      <td>Now and Then</td>\n",
       "      <td>...</td>\n",
       "      <td>1995-10-20</td>\n",
       "      <td>27400000.0</td>\n",
       "      <td>100.0</td>\n",
       "      <td>[{'iso_639_1': 'en', 'name': 'English'}]</td>\n",
       "      <td>Released</td>\n",
       "      <td>In every woman there is the girl she left behind.</td>\n",
       "      <td>Now and Then</td>\n",
       "      <td>False</td>\n",
       "      <td>6.6</td>\n",
       "      <td>91.0</td>\n",
       "    </tr>\n",
       "    <tr>\n",
       "      <th>27</th>\n",
       "      <td>27</td>\n",
       "      <td>False</td>\n",
       "      <td>NaN</td>\n",
       "      <td>0</td>\n",
       "      <td>[Drama, Romance]</td>\n",
       "      <td>NaN</td>\n",
       "      <td>17015</td>\n",
       "      <td>tt0114117</td>\n",
       "      <td>en</td>\n",
       "      <td>Persuasion</td>\n",
       "      <td>...</td>\n",
       "      <td>1995-09-27</td>\n",
       "      <td>0.0</td>\n",
       "      <td>104.0</td>\n",
       "      <td>[{'iso_639_1': 'en', 'name': 'English'}]</td>\n",
       "      <td>Released</td>\n",
       "      <td>NaN</td>\n",
       "      <td>Persuasion</td>\n",
       "      <td>False</td>\n",
       "      <td>7.4</td>\n",
       "      <td>36.0</td>\n",
       "    </tr>\n",
       "    <tr>\n",
       "      <th>28</th>\n",
       "      <td>28</td>\n",
       "      <td>False</td>\n",
       "      <td>NaN</td>\n",
       "      <td>18000000</td>\n",
       "      <td>[Fantasy, Science Fiction, Adventure]</td>\n",
       "      <td>NaN</td>\n",
       "      <td>902</td>\n",
       "      <td>tt0112682</td>\n",
       "      <td>fr</td>\n",
       "      <td>La Cité des Enfants Perdus</td>\n",
       "      <td>...</td>\n",
       "      <td>1995-05-16</td>\n",
       "      <td>1738611.0</td>\n",
       "      <td>108.0</td>\n",
       "      <td>[{'iso_639_1': 'cn', 'name': '广州话 / 廣州話'}, {'i...</td>\n",
       "      <td>Released</td>\n",
       "      <td>Where happily ever after is just a dream.</td>\n",
       "      <td>The City of Lost Children</td>\n",
       "      <td>False</td>\n",
       "      <td>7.6</td>\n",
       "      <td>308.0</td>\n",
       "    </tr>\n",
       "    <tr>\n",
       "      <th>29</th>\n",
       "      <td>29</td>\n",
       "      <td>False</td>\n",
       "      <td>NaN</td>\n",
       "      <td>0</td>\n",
       "      <td>[Drama, Crime]</td>\n",
       "      <td>NaN</td>\n",
       "      <td>37557</td>\n",
       "      <td>tt0115012</td>\n",
       "      <td>zh</td>\n",
       "      <td>摇啊摇，摇到外婆桥</td>\n",
       "      <td>...</td>\n",
       "      <td>1995-04-30</td>\n",
       "      <td>0.0</td>\n",
       "      <td>108.0</td>\n",
       "      <td>[{'iso_639_1': 'zh', 'name': '普通话'}]</td>\n",
       "      <td>Released</td>\n",
       "      <td>In 1930's Shanghai violence was not the proble...</td>\n",
       "      <td>Shanghai Triad</td>\n",
       "      <td>False</td>\n",
       "      <td>6.5</td>\n",
       "      <td>17.0</td>\n",
       "    </tr>\n",
       "    <tr>\n",
       "      <th>30</th>\n",
       "      <td>30</td>\n",
       "      <td>False</td>\n",
       "      <td>NaN</td>\n",
       "      <td>0</td>\n",
       "      <td>[Drama, Crime]</td>\n",
       "      <td>NaN</td>\n",
       "      <td>9909</td>\n",
       "      <td>tt0112792</td>\n",
       "      <td>en</td>\n",
       "      <td>Dangerous Minds</td>\n",
       "      <td>...</td>\n",
       "      <td>1995-08-11</td>\n",
       "      <td>180000000.0</td>\n",
       "      <td>99.0</td>\n",
       "      <td>[{'iso_639_1': 'en', 'name': 'English'}]</td>\n",
       "      <td>Released</td>\n",
       "      <td>She broke the rules... and changed their lives.</td>\n",
       "      <td>Dangerous Minds</td>\n",
       "      <td>False</td>\n",
       "      <td>6.4</td>\n",
       "      <td>249.0</td>\n",
       "    </tr>\n",
       "    <tr>\n",
       "      <th>31</th>\n",
       "      <td>31</td>\n",
       "      <td>False</td>\n",
       "      <td>NaN</td>\n",
       "      <td>29500000</td>\n",
       "      <td>[Science Fiction, Thriller, Mystery]</td>\n",
       "      <td>NaN</td>\n",
       "      <td>63</td>\n",
       "      <td>tt0114746</td>\n",
       "      <td>en</td>\n",
       "      <td>Twelve Monkeys</td>\n",
       "      <td>...</td>\n",
       "      <td>1995-12-29</td>\n",
       "      <td>168840000.0</td>\n",
       "      <td>129.0</td>\n",
       "      <td>[{'iso_639_1': 'en', 'name': 'English'}, {'iso...</td>\n",
       "      <td>Released</td>\n",
       "      <td>The future is history.</td>\n",
       "      <td>Twelve Monkeys</td>\n",
       "      <td>False</td>\n",
       "      <td>7.4</td>\n",
       "      <td>2470.0</td>\n",
       "    </tr>\n",
       "    <tr>\n",
       "      <th>32</th>\n",
       "      <td>33</td>\n",
       "      <td>False</td>\n",
       "      <td>{'id': 9435, 'name': 'Babe Collection', 'poste...</td>\n",
       "      <td>30000000</td>\n",
       "      <td>[Fantasy, Drama, Comedy, Family]</td>\n",
       "      <td>NaN</td>\n",
       "      <td>9598</td>\n",
       "      <td>tt0112431</td>\n",
       "      <td>en</td>\n",
       "      <td>Babe</td>\n",
       "      <td>...</td>\n",
       "      <td>1995-07-18</td>\n",
       "      <td>254134910.0</td>\n",
       "      <td>89.0</td>\n",
       "      <td>[{'iso_639_1': 'en', 'name': 'English'}]</td>\n",
       "      <td>Released</td>\n",
       "      <td>A little pig goes a long way.</td>\n",
       "      <td>Babe</td>\n",
       "      <td>False</td>\n",
       "      <td>6.0</td>\n",
       "      <td>756.0</td>\n",
       "    </tr>\n",
       "    <tr>\n",
       "      <th>33</th>\n",
       "      <td>35</td>\n",
       "      <td>False</td>\n",
       "      <td>NaN</td>\n",
       "      <td>11000000</td>\n",
       "      <td>[Drama]</td>\n",
       "      <td>NaN</td>\n",
       "      <td>687</td>\n",
       "      <td>tt0112818</td>\n",
       "      <td>en</td>\n",
       "      <td>Dead Man Walking</td>\n",
       "      <td>...</td>\n",
       "      <td>1995-12-29</td>\n",
       "      <td>39363635.0</td>\n",
       "      <td>122.0</td>\n",
       "      <td>[{'iso_639_1': 'en', 'name': 'English'}]</td>\n",
       "      <td>Released</td>\n",
       "      <td>NaN</td>\n",
       "      <td>Dead Man Walking</td>\n",
       "      <td>False</td>\n",
       "      <td>7.3</td>\n",
       "      <td>350.0</td>\n",
       "    </tr>\n",
       "    <tr>\n",
       "      <th>34</th>\n",
       "      <td>37</td>\n",
       "      <td>False</td>\n",
       "      <td>NaN</td>\n",
       "      <td>0</td>\n",
       "      <td>[Comedy, Family, Romance]</td>\n",
       "      <td>NaN</td>\n",
       "      <td>33689</td>\n",
       "      <td>tt0113442</td>\n",
       "      <td>en</td>\n",
       "      <td>It Takes Two</td>\n",
       "      <td>...</td>\n",
       "      <td>1995-11-17</td>\n",
       "      <td>0.0</td>\n",
       "      <td>101.0</td>\n",
       "      <td>[{'iso_639_1': 'en', 'name': 'English'}]</td>\n",
       "      <td>Released</td>\n",
       "      <td>Two identical strangers. Two different worlds....</td>\n",
       "      <td>It Takes Two</td>\n",
       "      <td>False</td>\n",
       "      <td>6.1</td>\n",
       "      <td>149.0</td>\n",
       "    </tr>\n",
       "  </tbody>\n",
       "</table>\n",
       "<p>35 rows × 25 columns</p>\n",
       "</div>"
      ],
      "text/plain": [
       "    index  adult                              belongs_to_collection    budget  \\\n",
       "0       0  False  {'id': 10194, 'name': 'Toy Story Collection', ...  30000000   \n",
       "1       1  False                                                NaN  65000000   \n",
       "2       2  False  {'id': 119050, 'name': 'Grumpy Old Men Collect...         0   \n",
       "3       3  False                                                NaN  16000000   \n",
       "4       4  False  {'id': 96871, 'name': 'Father of the Bride Col...         0   \n",
       "5       5  False                                                NaN  60000000   \n",
       "6       6  False                                                NaN  58000000   \n",
       "7       7  False                                                NaN         0   \n",
       "8       8  False                                                NaN  35000000   \n",
       "9       9  False  {'id': 645, 'name': 'James Bond Collection', '...  58000000   \n",
       "10     10  False                                                NaN  62000000   \n",
       "11     11  False                                                NaN         0   \n",
       "12     12  False  {'id': 117693, 'name': 'Balto Collection', 'po...         0   \n",
       "13     13  False                                                NaN  44000000   \n",
       "14     14  False                                                NaN  98000000   \n",
       "15     15  False                                                NaN  52000000   \n",
       "16     16  False                                                NaN  16500000   \n",
       "17     17  False                                                NaN   4000000   \n",
       "18     18  False  {'id': 3167, 'name': 'Ace Ventura Collection',...  30000000   \n",
       "19     19  False                                                NaN  60000000   \n",
       "20     20  False  {'id': 91698, 'name': 'Chili Palmer Collection...  30250000   \n",
       "21     21  False                                                NaN         0   \n",
       "22     22  False                                                NaN  50000000   \n",
       "23     23  False                                                NaN         0   \n",
       "24     24  False                                                NaN   3600000   \n",
       "25     25  False                                                NaN         0   \n",
       "26     26  False                                                NaN  12000000   \n",
       "27     27  False                                                NaN         0   \n",
       "28     28  False                                                NaN  18000000   \n",
       "29     29  False                                                NaN         0   \n",
       "30     30  False                                                NaN         0   \n",
       "31     31  False                                                NaN  29500000   \n",
       "32     33  False  {'id': 9435, 'name': 'Babe Collection', 'poste...  30000000   \n",
       "33     35  False                                                NaN  11000000   \n",
       "34     37  False                                                NaN         0   \n",
       "\n",
       "                                         genres  \\\n",
       "0                   [Animation, Comedy, Family]   \n",
       "1                  [Adventure, Fantasy, Family]   \n",
       "2                             [Romance, Comedy]   \n",
       "3                      [Comedy, Drama, Romance]   \n",
       "4                                      [Comedy]   \n",
       "5              [Action, Crime, Drama, Thriller]   \n",
       "6                             [Comedy, Romance]   \n",
       "7            [Action, Adventure, Drama, Family]   \n",
       "8                 [Action, Adventure, Thriller]   \n",
       "9                 [Adventure, Action, Thriller]   \n",
       "10                     [Comedy, Drama, Romance]   \n",
       "11                             [Comedy, Horror]   \n",
       "12               [Family, Animation, Adventure]   \n",
       "13                             [History, Drama]   \n",
       "14                          [Action, Adventure]   \n",
       "15                               [Drama, Crime]   \n",
       "16                             [Drama, Romance]   \n",
       "17                              [Crime, Comedy]   \n",
       "18                   [Crime, Comedy, Adventure]   \n",
       "19                      [Action, Comedy, Crime]   \n",
       "20                    [Comedy, Thriller, Crime]   \n",
       "21                            [Drama, Thriller]   \n",
       "22         [Action, Adventure, Crime, Thriller]   \n",
       "23  [Drama, Fantasy, Science Fiction, Thriller]   \n",
       "24                             [Drama, Romance]   \n",
       "25                                      [Drama]   \n",
       "26                      [Comedy, Drama, Family]   \n",
       "27                             [Drama, Romance]   \n",
       "28        [Fantasy, Science Fiction, Adventure]   \n",
       "29                               [Drama, Crime]   \n",
       "30                               [Drama, Crime]   \n",
       "31         [Science Fiction, Thriller, Mystery]   \n",
       "32             [Fantasy, Drama, Comedy, Family]   \n",
       "33                                      [Drama]   \n",
       "34                    [Comedy, Family, Romance]   \n",
       "\n",
       "                                             homepage     id    imdb_id  \\\n",
       "0                http://toystory.disney.com/toy-story    862  tt0114709   \n",
       "1                                                 NaN   8844  tt0113497   \n",
       "2                                                 NaN  15602  tt0113228   \n",
       "3                                                 NaN  31357  tt0114885   \n",
       "4                                                 NaN  11862  tt0113041   \n",
       "5                                                 NaN    949  tt0113277   \n",
       "6                                                 NaN  11860  tt0114319   \n",
       "7                                                 NaN  45325  tt0112302   \n",
       "8                                                 NaN   9091  tt0114576   \n",
       "9        http://www.mgm.com/view/movie/757/Goldeneye/    710  tt0113189   \n",
       "10                                                NaN   9087  tt0112346   \n",
       "11                                                NaN  12110  tt0112896   \n",
       "12                                                NaN  21032  tt0112453   \n",
       "13                                                NaN  10858  tt0113987   \n",
       "14                                                NaN   1408  tt0112760   \n",
       "15                                                NaN    524  tt0112641   \n",
       "16                                                NaN   4584  tt0114388   \n",
       "17                                                NaN      5  tt0113101   \n",
       "18                                                NaN   9273  tt0112281   \n",
       "19                                                NaN  11517  tt0113845   \n",
       "20                                                NaN   8012  tt0113161   \n",
       "21                                                NaN   1710  tt0112722   \n",
       "22                                                NaN   9691  tt0112401   \n",
       "23                                                NaN  12665  tt0114168   \n",
       "24  http://www.mgm.com/title_title.do?title_star=L...    451  tt0113627   \n",
       "25                                                NaN  16420  tt0114057   \n",
       "26                                                NaN   9263  tt0114011   \n",
       "27                                                NaN  17015  tt0114117   \n",
       "28                                                NaN    902  tt0112682   \n",
       "29                                                NaN  37557  tt0115012   \n",
       "30                                                NaN   9909  tt0112792   \n",
       "31                                                NaN     63  tt0114746   \n",
       "32                                                NaN   9598  tt0112431   \n",
       "33                                                NaN    687  tt0112818   \n",
       "34                                                NaN  33689  tt0113442   \n",
       "\n",
       "   original_language                  original_title  ... release_date  \\\n",
       "0                 en                       Toy Story  ...   1995-10-30   \n",
       "1                 en                         Jumanji  ...   1995-12-15   \n",
       "2                 en                Grumpier Old Men  ...   1995-12-22   \n",
       "3                 en               Waiting to Exhale  ...   1995-12-22   \n",
       "4                 en     Father of the Bride Part II  ...   1995-02-10   \n",
       "5                 en                            Heat  ...   1995-12-15   \n",
       "6                 en                         Sabrina  ...   1995-12-15   \n",
       "7                 en                    Tom and Huck  ...   1995-12-22   \n",
       "8                 en                    Sudden Death  ...   1995-12-22   \n",
       "9                 en                       GoldenEye  ...   1995-11-16   \n",
       "10                en          The American President  ...   1995-11-17   \n",
       "11                en     Dracula: Dead and Loving It  ...   1995-12-22   \n",
       "12                en                           Balto  ...   1995-12-22   \n",
       "13                en                           Nixon  ...   1995-12-22   \n",
       "14                en                Cutthroat Island  ...   1995-12-22   \n",
       "15                en                          Casino  ...   1995-11-22   \n",
       "16                en           Sense and Sensibility  ...   1995-12-13   \n",
       "17                en                      Four Rooms  ...   1995-12-09   \n",
       "18                en  Ace Ventura: When Nature Calls  ...   1995-11-10   \n",
       "19                en                     Money Train  ...   1995-11-21   \n",
       "20                en                      Get Shorty  ...   1995-10-20   \n",
       "21                en                         Copycat  ...   1995-10-27   \n",
       "22                en                       Assassins  ...   1995-10-06   \n",
       "23                en                          Powder  ...   1995-10-27   \n",
       "24                en               Leaving Las Vegas  ...   1995-10-27   \n",
       "25                en                         Othello  ...   1995-12-15   \n",
       "26                en                    Now and Then  ...   1995-10-20   \n",
       "27                en                      Persuasion  ...   1995-09-27   \n",
       "28                fr      La Cité des Enfants Perdus  ...   1995-05-16   \n",
       "29                zh                       摇啊摇，摇到外婆桥  ...   1995-04-30   \n",
       "30                en                 Dangerous Minds  ...   1995-08-11   \n",
       "31                en                  Twelve Monkeys  ...   1995-12-29   \n",
       "32                en                            Babe  ...   1995-07-18   \n",
       "33                en                Dead Man Walking  ...   1995-12-29   \n",
       "34                en                    It Takes Two  ...   1995-11-17   \n",
       "\n",
       "        revenue runtime                                   spoken_languages  \\\n",
       "0   373554033.0    81.0           [{'iso_639_1': 'en', 'name': 'English'}]   \n",
       "1   262797249.0   104.0  [{'iso_639_1': 'en', 'name': 'English'}, {'iso...   \n",
       "2           0.0   101.0           [{'iso_639_1': 'en', 'name': 'English'}]   \n",
       "3    81452156.0   127.0           [{'iso_639_1': 'en', 'name': 'English'}]   \n",
       "4    76578911.0   106.0           [{'iso_639_1': 'en', 'name': 'English'}]   \n",
       "5   187436818.0   170.0  [{'iso_639_1': 'en', 'name': 'English'}, {'iso...   \n",
       "6           0.0   127.0  [{'iso_639_1': 'fr', 'name': 'Français'}, {'is...   \n",
       "7           0.0    97.0  [{'iso_639_1': 'en', 'name': 'English'}, {'iso...   \n",
       "8    64350171.0   106.0           [{'iso_639_1': 'en', 'name': 'English'}]   \n",
       "9   352194034.0   130.0  [{'iso_639_1': 'en', 'name': 'English'}, {'iso...   \n",
       "10  107879496.0   106.0           [{'iso_639_1': 'en', 'name': 'English'}]   \n",
       "11          0.0    88.0  [{'iso_639_1': 'en', 'name': 'English'}, {'iso...   \n",
       "12   11348324.0    78.0           [{'iso_639_1': 'en', 'name': 'English'}]   \n",
       "13   13681765.0   192.0           [{'iso_639_1': 'en', 'name': 'English'}]   \n",
       "14   10017322.0   119.0  [{'iso_639_1': 'en', 'name': 'English'}, {'iso...   \n",
       "15  116112375.0   178.0           [{'iso_639_1': 'en', 'name': 'English'}]   \n",
       "16  135000000.0   136.0           [{'iso_639_1': 'en', 'name': 'English'}]   \n",
       "17    4300000.0    98.0           [{'iso_639_1': 'en', 'name': 'English'}]   \n",
       "18  212385533.0    90.0           [{'iso_639_1': 'en', 'name': 'English'}]   \n",
       "19   35431113.0   103.0           [{'iso_639_1': 'en', 'name': 'English'}]   \n",
       "20  115101622.0   105.0           [{'iso_639_1': 'en', 'name': 'English'}]   \n",
       "21          0.0   124.0  [{'iso_639_1': 'en', 'name': 'English'}, {'iso...   \n",
       "22   30303072.0   132.0  [{'iso_639_1': 'en', 'name': 'English'}, {'iso...   \n",
       "23          0.0   111.0           [{'iso_639_1': 'en', 'name': 'English'}]   \n",
       "24   49800000.0   112.0           [{'iso_639_1': 'en', 'name': 'English'}]   \n",
       "25          0.0   123.0           [{'iso_639_1': 'en', 'name': 'English'}]   \n",
       "26   27400000.0   100.0           [{'iso_639_1': 'en', 'name': 'English'}]   \n",
       "27          0.0   104.0           [{'iso_639_1': 'en', 'name': 'English'}]   \n",
       "28    1738611.0   108.0  [{'iso_639_1': 'cn', 'name': '广州话 / 廣州話'}, {'i...   \n",
       "29          0.0   108.0               [{'iso_639_1': 'zh', 'name': '普通话'}]   \n",
       "30  180000000.0    99.0           [{'iso_639_1': 'en', 'name': 'English'}]   \n",
       "31  168840000.0   129.0  [{'iso_639_1': 'en', 'name': 'English'}, {'iso...   \n",
       "32  254134910.0    89.0           [{'iso_639_1': 'en', 'name': 'English'}]   \n",
       "33   39363635.0   122.0           [{'iso_639_1': 'en', 'name': 'English'}]   \n",
       "34          0.0   101.0           [{'iso_639_1': 'en', 'name': 'English'}]   \n",
       "\n",
       "      status                                            tagline  \\\n",
       "0   Released                                                NaN   \n",
       "1   Released          Roll the dice and unleash the excitement!   \n",
       "2   Released  Still Yelling. Still Fighting. Still Ready for...   \n",
       "3   Released  Friends are the people who let you be yourself...   \n",
       "4   Released  Just When His World Is Back To Normal... He's ...   \n",
       "5   Released                           A Los Angeles Crime Saga   \n",
       "6   Released  You are cordially invited to the most surprisi...   \n",
       "7   Released                             The Original Bad Boys.   \n",
       "8   Released                         Terror goes into overtime.   \n",
       "9   Released               No limits. No fears. No substitutes.   \n",
       "10  Released  Why can't the most powerful man in the world h...   \n",
       "11  Released                                                NaN   \n",
       "12  Released                     Part Dog. Part Wolf. All Hero.   \n",
       "13  Released  Triumphant in Victory, Bitter in Defeat. He Ch...   \n",
       "14  Released  The Course Has Been Set. There Is No Turning B...   \n",
       "15  Released                   No one stays at the top forever.   \n",
       "16  Released           Lose your heart and come to your senses.   \n",
       "17  Released  Twelve outrageous guests. Four scandalous requ...   \n",
       "18  Released            New animals. New adventures. Same hair.   \n",
       "19  Released                        Get on, or GET OUT THE WAY!   \n",
       "20  Released  The mob is tough, but it’s nothing like show b...   \n",
       "21  Released  One man is copying the most notorious killers ...   \n",
       "22  Released  In the shadows of life, In the business of dea...   \n",
       "23  Released  An extraordinary encounter with another human ...   \n",
       "24  Released                     I Love You... The Way You Are.   \n",
       "25  Released                    Envy, greed, jealousy and love.   \n",
       "26  Released  In every woman there is the girl she left behind.   \n",
       "27  Released                                                NaN   \n",
       "28  Released          Where happily ever after is just a dream.   \n",
       "29  Released  In 1930's Shanghai violence was not the proble...   \n",
       "30  Released    She broke the rules... and changed their lives.   \n",
       "31  Released                             The future is history.   \n",
       "32  Released                      A little pig goes a long way.   \n",
       "33  Released                                                NaN   \n",
       "34  Released  Two identical strangers. Two different worlds....   \n",
       "\n",
       "                             title  video vote_average vote_count  \n",
       "0                        Toy Story  False          7.7     5415.0  \n",
       "1                          Jumanji  False          6.9     2413.0  \n",
       "2                 Grumpier Old Men  False          6.5       92.0  \n",
       "3                Waiting to Exhale  False          6.1       34.0  \n",
       "4      Father of the Bride Part II  False          5.7      173.0  \n",
       "5                             Heat  False          7.7     1886.0  \n",
       "6                          Sabrina  False          6.2      141.0  \n",
       "7                     Tom and Huck  False          5.4       45.0  \n",
       "8                     Sudden Death  False          5.5      174.0  \n",
       "9                        GoldenEye  False          6.6     1194.0  \n",
       "10          The American President  False          6.5      199.0  \n",
       "11     Dracula: Dead and Loving It  False          5.7      210.0  \n",
       "12                           Balto  False          7.1      423.0  \n",
       "13                           Nixon  False          7.1       72.0  \n",
       "14                Cutthroat Island  False          5.7      137.0  \n",
       "15                          Casino  False          7.8     1343.0  \n",
       "16           Sense and Sensibility  False          7.2      364.0  \n",
       "17                      Four Rooms  False          6.5      539.0  \n",
       "18  Ace Ventura: When Nature Calls  False          6.1     1128.0  \n",
       "19                     Money Train  False          5.4      224.0  \n",
       "20                      Get Shorty  False          6.4      305.0  \n",
       "21                         Copycat  False          6.5      199.0  \n",
       "22                       Assassins  False          6.0      394.0  \n",
       "23                          Powder  False          6.3      143.0  \n",
       "24               Leaving Las Vegas  False          7.1      365.0  \n",
       "25                         Othello  False          7.0       33.0  \n",
       "26                    Now and Then  False          6.6       91.0  \n",
       "27                      Persuasion  False          7.4       36.0  \n",
       "28       The City of Lost Children  False          7.6      308.0  \n",
       "29                  Shanghai Triad  False          6.5       17.0  \n",
       "30                 Dangerous Minds  False          6.4      249.0  \n",
       "31                  Twelve Monkeys  False          7.4     2470.0  \n",
       "32                            Babe  False          6.0      756.0  \n",
       "33                Dead Man Walking  False          7.3      350.0  \n",
       "34                    It Takes Two  False          6.1      149.0  \n",
       "\n",
       "[35 rows x 25 columns]"
      ]
     },
     "execution_count": 21,
     "metadata": {},
     "output_type": "execute_result"
    }
   ],
   "source": [
    "smd.head(35)"
   ]
  },
  {
   "cell_type": "code",
   "execution_count": 22,
   "metadata": {},
   "outputs": [],
   "source": [
    "def get_recommendations(title):\n",
    "    \"\"\"this function takes in a movie title, sorts the sim_scores which are based on previously calculated cosine similarity and gives out a list of most similar items\n",
    "    \"\"\"\n",
    "    idx = indices[title]\n",
    "    sim_scores = list(enumerate(cosine_sim[idx]))\n",
    "    sim_scores = sorted(sim_scores, key=lambda x: x[1], reverse=True)\n",
    "    sim_scores = sim_scores[1:31]\n",
    "    movie_indices = [i[0] for i in sim_scores]\n",
    "    return titles.iloc[movie_indices]"
   ]
  },
  {
   "cell_type": "code",
   "execution_count": 23,
   "metadata": {},
   "outputs": [
    {
     "data": {
      "text/plain": [
       "7320               Toy Story 3\n",
       "2348               Toy Story 2\n",
       "5947    The 40 Year Old Virgin\n",
       "837      Rebel Without a Cause\n",
       "2385           Man on the Moon\n",
       "6393              Factory Girl\n",
       "1507                 Condorman\n",
       "6316    For Your Consideration\n",
       "4755          Rivers and Tides\n",
       "9143      Welcome to Happiness\n",
       "Name: title, dtype: object"
      ]
     },
     "execution_count": 23,
     "metadata": {},
     "output_type": "execute_result"
    }
   ],
   "source": [
    "#recommendataion\n",
    "get_recommendations('Toy Story')[:10]"
   ]
  },
  {
   "cell_type": "code",
   "execution_count": 24,
   "metadata": {},
   "outputs": [],
   "source": [
    "# create description column from tagline and overview\n",
    "smd['tagline'] = smd['tagline'].fillna('') \n",
    "smd['description'] = smd['overview'] + smd['tagline']\n",
    "smd['description'] = smd['description'].fillna('')"
   ]
  },
  {
   "cell_type": "code",
   "execution_count": 25,
   "metadata": {},
   "outputs": [
    {
     "data": {
      "text/plain": [
       "\"Led by Woody, Andy's toys live happily in his room until Andy's birthday brings Buzz Lightyear onto the scene. Afraid of losing his place in Andy's heart, Woody plots against Buzz. But when circumstances separate Buzz and Woody from their owner, the duo eventually learns to put aside their differences.\""
      ]
     },
     "execution_count": 25,
     "metadata": {},
     "output_type": "execute_result"
    }
   ],
   "source": [
    "smd.description[0]"
   ]
  },
  {
   "cell_type": "code",
   "execution_count": 26,
   "metadata": {},
   "outputs": [],
   "source": [
    "# NLP\n",
    "tf = TfidfVectorizer(analyzer='word',ngram_range=(1, 2),min_df=0, stop_words='english')\n",
    "tfidf_matrix = tf.fit_transform(smd['description'])"
   ]
  },
  {
   "cell_type": "code",
   "execution_count": 27,
   "metadata": {},
   "outputs": [],
   "source": [
    "#cosine similarity\n",
    "cosine_sim = linear_kernel(tfidf_matrix, tfidf_matrix)"
   ]
  },
  {
   "cell_type": "code",
   "execution_count": 28,
   "metadata": {},
   "outputs": [
    {
     "data": {
      "text/plain": [
       "2348               Toy Story 2\n",
       "7320               Toy Story 3\n",
       "5947    The 40 Year Old Virgin\n",
       "2385           Man on the Moon\n",
       "6393              Factory Girl\n",
       "4447    What's Up, Tiger Lily?\n",
       "837      Rebel Without a Cause\n",
       "6316    For Your Consideration\n",
       "4755          Rivers and Tides\n",
       "9143      Welcome to Happiness\n",
       "Name: title, dtype: object"
      ]
     },
     "execution_count": 28,
     "metadata": {},
     "output_type": "execute_result"
    }
   ],
   "source": [
    "#recommendataion\n",
    "get_recommendations('Toy Story')[:10]"
   ]
  },
  {
   "cell_type": "markdown",
   "metadata": {},
   "source": [
    "### Additional metadata"
   ]
  },
  {
   "cell_type": "markdown",
   "metadata": {},
   "source": [
    "To get more complex models lets load in more metadata"
   ]
  },
  {
   "cell_type": "code",
   "execution_count": 29,
   "metadata": {},
   "outputs": [],
   "source": [
    "credits = pd.read_csv('data/tmdb/credits.csv')\n",
    "keywords = pd.read_csv('data/tmdb/keywords.csv')"
   ]
  },
  {
   "cell_type": "code",
   "execution_count": 30,
   "metadata": {},
   "outputs": [],
   "source": [
    "keywords['id'] = keywords['id'].astype('int')\n",
    "credits['id'] = credits['id'].astype('int')\n",
    "tmdb['id'] = tmdb['id'].astype('int')"
   ]
  },
  {
   "cell_type": "code",
   "execution_count": 31,
   "metadata": {},
   "outputs": [
    {
     "data": {
      "text/plain": [
       "(45463, 24)"
      ]
     },
     "execution_count": 31,
     "metadata": {},
     "output_type": "execute_result"
    }
   ],
   "source": [
    "tmdb.shape"
   ]
  },
  {
   "cell_type": "code",
   "execution_count": 32,
   "metadata": {},
   "outputs": [],
   "source": [
    "# merge additional data \n",
    "tmdb = tmdb.merge(credits, on='id')\n",
    "tmdb = tmdb.merge(keywords, on='id')"
   ]
  },
  {
   "cell_type": "code",
   "execution_count": 33,
   "metadata": {},
   "outputs": [
    {
     "data": {
      "text/plain": [
       "(9657, 27)"
      ]
     },
     "execution_count": 33,
     "metadata": {},
     "output_type": "execute_result"
    }
   ],
   "source": [
    "# subset with movielens data\n",
    "smd = tmdb[tmdb['id'].isin(links_small)]\n",
    "smd.shape"
   ]
  },
  {
   "cell_type": "code",
   "execution_count": 34,
   "metadata": {},
   "outputs": [
    {
     "data": {
      "text/html": [
       "<div>\n",
       "<style scoped>\n",
       "    .dataframe tbody tr th:only-of-type {\n",
       "        vertical-align: middle;\n",
       "    }\n",
       "\n",
       "    .dataframe tbody tr th {\n",
       "        vertical-align: top;\n",
       "    }\n",
       "\n",
       "    .dataframe thead th {\n",
       "        text-align: right;\n",
       "    }\n",
       "</style>\n",
       "<table border=\"1\" class=\"dataframe\">\n",
       "  <thead>\n",
       "    <tr style=\"text-align: right;\">\n",
       "      <th></th>\n",
       "      <th>adult</th>\n",
       "      <th>belongs_to_collection</th>\n",
       "      <th>budget</th>\n",
       "      <th>genres</th>\n",
       "      <th>homepage</th>\n",
       "      <th>id</th>\n",
       "      <th>imdb_id</th>\n",
       "      <th>original_language</th>\n",
       "      <th>original_title</th>\n",
       "      <th>overview</th>\n",
       "      <th>...</th>\n",
       "      <th>spoken_languages</th>\n",
       "      <th>status</th>\n",
       "      <th>tagline</th>\n",
       "      <th>title</th>\n",
       "      <th>video</th>\n",
       "      <th>vote_average</th>\n",
       "      <th>vote_count</th>\n",
       "      <th>cast</th>\n",
       "      <th>crew</th>\n",
       "      <th>keywords</th>\n",
       "    </tr>\n",
       "  </thead>\n",
       "  <tbody>\n",
       "    <tr>\n",
       "      <th>0</th>\n",
       "      <td>False</td>\n",
       "      <td>{'id': 10194, 'name': 'Toy Story Collection', ...</td>\n",
       "      <td>30000000</td>\n",
       "      <td>[Animation, Comedy, Family]</td>\n",
       "      <td>http://toystory.disney.com/toy-story</td>\n",
       "      <td>862</td>\n",
       "      <td>tt0114709</td>\n",
       "      <td>en</td>\n",
       "      <td>Toy Story</td>\n",
       "      <td>Led by Woody, Andy's toys live happily in his ...</td>\n",
       "      <td>...</td>\n",
       "      <td>[{'iso_639_1': 'en', 'name': 'English'}]</td>\n",
       "      <td>Released</td>\n",
       "      <td>NaN</td>\n",
       "      <td>Toy Story</td>\n",
       "      <td>False</td>\n",
       "      <td>7.7</td>\n",
       "      <td>5415.0</td>\n",
       "      <td>[{'cast_id': 14, 'character': 'Woody (voice)',...</td>\n",
       "      <td>[{'credit_id': '52fe4284c3a36847f8024f49', 'de...</td>\n",
       "      <td>[{'id': 931, 'name': 'jealousy'}, {'id': 4290,...</td>\n",
       "    </tr>\n",
       "    <tr>\n",
       "      <th>1</th>\n",
       "      <td>False</td>\n",
       "      <td>NaN</td>\n",
       "      <td>65000000</td>\n",
       "      <td>[Adventure, Fantasy, Family]</td>\n",
       "      <td>NaN</td>\n",
       "      <td>8844</td>\n",
       "      <td>tt0113497</td>\n",
       "      <td>en</td>\n",
       "      <td>Jumanji</td>\n",
       "      <td>When siblings Judy and Peter discover an encha...</td>\n",
       "      <td>...</td>\n",
       "      <td>[{'iso_639_1': 'en', 'name': 'English'}, {'iso...</td>\n",
       "      <td>Released</td>\n",
       "      <td>Roll the dice and unleash the excitement!</td>\n",
       "      <td>Jumanji</td>\n",
       "      <td>False</td>\n",
       "      <td>6.9</td>\n",
       "      <td>2413.0</td>\n",
       "      <td>[{'cast_id': 1, 'character': 'Alan Parrish', '...</td>\n",
       "      <td>[{'credit_id': '52fe44bfc3a36847f80a7cd1', 'de...</td>\n",
       "      <td>[{'id': 10090, 'name': 'board game'}, {'id': 1...</td>\n",
       "    </tr>\n",
       "    <tr>\n",
       "      <th>2</th>\n",
       "      <td>False</td>\n",
       "      <td>{'id': 119050, 'name': 'Grumpy Old Men Collect...</td>\n",
       "      <td>0</td>\n",
       "      <td>[Romance, Comedy]</td>\n",
       "      <td>NaN</td>\n",
       "      <td>15602</td>\n",
       "      <td>tt0113228</td>\n",
       "      <td>en</td>\n",
       "      <td>Grumpier Old Men</td>\n",
       "      <td>A family wedding reignites the ancient feud be...</td>\n",
       "      <td>...</td>\n",
       "      <td>[{'iso_639_1': 'en', 'name': 'English'}]</td>\n",
       "      <td>Released</td>\n",
       "      <td>Still Yelling. Still Fighting. Still Ready for...</td>\n",
       "      <td>Grumpier Old Men</td>\n",
       "      <td>False</td>\n",
       "      <td>6.5</td>\n",
       "      <td>92.0</td>\n",
       "      <td>[{'cast_id': 2, 'character': 'Max Goldman', 'c...</td>\n",
       "      <td>[{'credit_id': '52fe466a9251416c75077a89', 'de...</td>\n",
       "      <td>[{'id': 1495, 'name': 'fishing'}, {'id': 12392...</td>\n",
       "    </tr>\n",
       "    <tr>\n",
       "      <th>3</th>\n",
       "      <td>False</td>\n",
       "      <td>NaN</td>\n",
       "      <td>16000000</td>\n",
       "      <td>[Comedy, Drama, Romance]</td>\n",
       "      <td>NaN</td>\n",
       "      <td>31357</td>\n",
       "      <td>tt0114885</td>\n",
       "      <td>en</td>\n",
       "      <td>Waiting to Exhale</td>\n",
       "      <td>Cheated on, mistreated and stepped on, the wom...</td>\n",
       "      <td>...</td>\n",
       "      <td>[{'iso_639_1': 'en', 'name': 'English'}]</td>\n",
       "      <td>Released</td>\n",
       "      <td>Friends are the people who let you be yourself...</td>\n",
       "      <td>Waiting to Exhale</td>\n",
       "      <td>False</td>\n",
       "      <td>6.1</td>\n",
       "      <td>34.0</td>\n",
       "      <td>[{'cast_id': 1, 'character': \"Savannah 'Vannah...</td>\n",
       "      <td>[{'credit_id': '52fe44779251416c91011acb', 'de...</td>\n",
       "      <td>[{'id': 818, 'name': 'based on novel'}, {'id':...</td>\n",
       "    </tr>\n",
       "    <tr>\n",
       "      <th>4</th>\n",
       "      <td>False</td>\n",
       "      <td>{'id': 96871, 'name': 'Father of the Bride Col...</td>\n",
       "      <td>0</td>\n",
       "      <td>[Comedy]</td>\n",
       "      <td>NaN</td>\n",
       "      <td>11862</td>\n",
       "      <td>tt0113041</td>\n",
       "      <td>en</td>\n",
       "      <td>Father of the Bride Part II</td>\n",
       "      <td>Just when George Banks has recovered from his ...</td>\n",
       "      <td>...</td>\n",
       "      <td>[{'iso_639_1': 'en', 'name': 'English'}]</td>\n",
       "      <td>Released</td>\n",
       "      <td>Just When His World Is Back To Normal... He's ...</td>\n",
       "      <td>Father of the Bride Part II</td>\n",
       "      <td>False</td>\n",
       "      <td>5.7</td>\n",
       "      <td>173.0</td>\n",
       "      <td>[{'cast_id': 1, 'character': 'George Banks', '...</td>\n",
       "      <td>[{'credit_id': '52fe44959251416c75039ed7', 'de...</td>\n",
       "      <td>[{'id': 1009, 'name': 'baby'}, {'id': 1599, 'n...</td>\n",
       "    </tr>\n",
       "  </tbody>\n",
       "</table>\n",
       "<p>5 rows × 27 columns</p>\n",
       "</div>"
      ],
      "text/plain": [
       "   adult                              belongs_to_collection    budget  \\\n",
       "0  False  {'id': 10194, 'name': 'Toy Story Collection', ...  30000000   \n",
       "1  False                                                NaN  65000000   \n",
       "2  False  {'id': 119050, 'name': 'Grumpy Old Men Collect...         0   \n",
       "3  False                                                NaN  16000000   \n",
       "4  False  {'id': 96871, 'name': 'Father of the Bride Col...         0   \n",
       "\n",
       "                         genres                              homepage     id  \\\n",
       "0   [Animation, Comedy, Family]  http://toystory.disney.com/toy-story    862   \n",
       "1  [Adventure, Fantasy, Family]                                   NaN   8844   \n",
       "2             [Romance, Comedy]                                   NaN  15602   \n",
       "3      [Comedy, Drama, Romance]                                   NaN  31357   \n",
       "4                      [Comedy]                                   NaN  11862   \n",
       "\n",
       "     imdb_id original_language               original_title  \\\n",
       "0  tt0114709                en                    Toy Story   \n",
       "1  tt0113497                en                      Jumanji   \n",
       "2  tt0113228                en             Grumpier Old Men   \n",
       "3  tt0114885                en            Waiting to Exhale   \n",
       "4  tt0113041                en  Father of the Bride Part II   \n",
       "\n",
       "                                            overview  ...  \\\n",
       "0  Led by Woody, Andy's toys live happily in his ...  ...   \n",
       "1  When siblings Judy and Peter discover an encha...  ...   \n",
       "2  A family wedding reignites the ancient feud be...  ...   \n",
       "3  Cheated on, mistreated and stepped on, the wom...  ...   \n",
       "4  Just when George Banks has recovered from his ...  ...   \n",
       "\n",
       "                                    spoken_languages    status  \\\n",
       "0           [{'iso_639_1': 'en', 'name': 'English'}]  Released   \n",
       "1  [{'iso_639_1': 'en', 'name': 'English'}, {'iso...  Released   \n",
       "2           [{'iso_639_1': 'en', 'name': 'English'}]  Released   \n",
       "3           [{'iso_639_1': 'en', 'name': 'English'}]  Released   \n",
       "4           [{'iso_639_1': 'en', 'name': 'English'}]  Released   \n",
       "\n",
       "                                             tagline  \\\n",
       "0                                                NaN   \n",
       "1          Roll the dice and unleash the excitement!   \n",
       "2  Still Yelling. Still Fighting. Still Ready for...   \n",
       "3  Friends are the people who let you be yourself...   \n",
       "4  Just When His World Is Back To Normal... He's ...   \n",
       "\n",
       "                         title  video  vote_average  vote_count  \\\n",
       "0                    Toy Story  False           7.7      5415.0   \n",
       "1                      Jumanji  False           6.9      2413.0   \n",
       "2             Grumpier Old Men  False           6.5        92.0   \n",
       "3            Waiting to Exhale  False           6.1        34.0   \n",
       "4  Father of the Bride Part II  False           5.7       173.0   \n",
       "\n",
       "                                                cast  \\\n",
       "0  [{'cast_id': 14, 'character': 'Woody (voice)',...   \n",
       "1  [{'cast_id': 1, 'character': 'Alan Parrish', '...   \n",
       "2  [{'cast_id': 2, 'character': 'Max Goldman', 'c...   \n",
       "3  [{'cast_id': 1, 'character': \"Savannah 'Vannah...   \n",
       "4  [{'cast_id': 1, 'character': 'George Banks', '...   \n",
       "\n",
       "                                                crew  \\\n",
       "0  [{'credit_id': '52fe4284c3a36847f8024f49', 'de...   \n",
       "1  [{'credit_id': '52fe44bfc3a36847f80a7cd1', 'de...   \n",
       "2  [{'credit_id': '52fe466a9251416c75077a89', 'de...   \n",
       "3  [{'credit_id': '52fe44779251416c91011acb', 'de...   \n",
       "4  [{'credit_id': '52fe44959251416c75039ed7', 'de...   \n",
       "\n",
       "                                            keywords  \n",
       "0  [{'id': 931, 'name': 'jealousy'}, {'id': 4290,...  \n",
       "1  [{'id': 10090, 'name': 'board game'}, {'id': 1...  \n",
       "2  [{'id': 1495, 'name': 'fishing'}, {'id': 12392...  \n",
       "3  [{'id': 818, 'name': 'based on novel'}, {'id':...  \n",
       "4  [{'id': 1009, 'name': 'baby'}, {'id': 1599, 'n...  \n",
       "\n",
       "[5 rows x 27 columns]"
      ]
     },
     "execution_count": 34,
     "metadata": {},
     "output_type": "execute_result"
    }
   ],
   "source": [
    "smd.head()"
   ]
  },
  {
   "cell_type": "code",
   "execution_count": 35,
   "metadata": {},
   "outputs": [
    {
     "name": "stdout",
     "output_type": "stream",
     "text": [
      "<class 'pandas.core.frame.DataFrame'>\n",
      "Int64Index: 9657 entries, 0 to 46533\n",
      "Data columns (total 27 columns):\n",
      " #   Column                 Non-Null Count  Dtype  \n",
      "---  ------                 --------------  -----  \n",
      " 0   adult                  9657 non-null   object \n",
      " 1   belongs_to_collection  1879 non-null   object \n",
      " 2   budget                 9657 non-null   object \n",
      " 3   genres                 9657 non-null   object \n",
      " 4   homepage               2334 non-null   object \n",
      " 5   id                     9657 non-null   int64  \n",
      " 6   imdb_id                9655 non-null   object \n",
      " 7   original_language      9657 non-null   object \n",
      " 8   original_title         9657 non-null   object \n",
      " 9   overview               9638 non-null   object \n",
      " 10  popularity             9657 non-null   object \n",
      " 11  poster_path            9654 non-null   object \n",
      " 12  production_companies   9657 non-null   object \n",
      " 13  production_countries   9657 non-null   object \n",
      " 14  release_date           9655 non-null   object \n",
      " 15  revenue                9657 non-null   float64\n",
      " 16  runtime                9656 non-null   float64\n",
      " 17  spoken_languages       9657 non-null   object \n",
      " 18  status                 9655 non-null   object \n",
      " 19  tagline                7310 non-null   object \n",
      " 20  title                  9657 non-null   object \n",
      " 21  video                  9657 non-null   object \n",
      " 22  vote_average           9657 non-null   float64\n",
      " 23  vote_count             9657 non-null   float64\n",
      " 24  cast                   9657 non-null   object \n",
      " 25  crew                   9657 non-null   object \n",
      " 26  keywords               9657 non-null   object \n",
      "dtypes: float64(4), int64(1), object(22)\n",
      "memory usage: 2.1+ MB\n"
     ]
    }
   ],
   "source": [
    "smd.info()"
   ]
  },
  {
   "cell_type": "code",
   "execution_count": 36,
   "metadata": {},
   "outputs": [
    {
     "data": {
      "text/plain": [
       "str"
      ]
     },
     "execution_count": 36,
     "metadata": {},
     "output_type": "execute_result"
    }
   ],
   "source": [
    "#check type of column\n",
    "type(smd.loc[0, \"cast\"])"
   ]
  },
  {
   "cell_type": "code",
   "execution_count": 37,
   "metadata": {},
   "outputs": [
    {
     "name": "stderr",
     "output_type": "stream",
     "text": [
      "/var/folders/0f/5nqwl_8j7n1dmfgmn2m0tztw0000gn/T/ipykernel_17254/3906202070.py:2: SettingWithCopyWarning: \n",
      "A value is trying to be set on a copy of a slice from a DataFrame.\n",
      "Try using .loc[row_indexer,col_indexer] = value instead\n",
      "\n",
      "See the caveats in the documentation: https://pandas.pydata.org/pandas-docs/stable/user_guide/indexing.html#returning-a-view-versus-a-copy\n",
      "  smd['cast'] = smd['cast'].apply(literal_eval)\n",
      "/var/folders/0f/5nqwl_8j7n1dmfgmn2m0tztw0000gn/T/ipykernel_17254/3906202070.py:3: SettingWithCopyWarning: \n",
      "A value is trying to be set on a copy of a slice from a DataFrame.\n",
      "Try using .loc[row_indexer,col_indexer] = value instead\n",
      "\n",
      "See the caveats in the documentation: https://pandas.pydata.org/pandas-docs/stable/user_guide/indexing.html#returning-a-view-versus-a-copy\n",
      "  smd['crew'] = smd['crew'].apply(literal_eval)\n",
      "/var/folders/0f/5nqwl_8j7n1dmfgmn2m0tztw0000gn/T/ipykernel_17254/3906202070.py:4: SettingWithCopyWarning: \n",
      "A value is trying to be set on a copy of a slice from a DataFrame.\n",
      "Try using .loc[row_indexer,col_indexer] = value instead\n",
      "\n",
      "See the caveats in the documentation: https://pandas.pydata.org/pandas-docs/stable/user_guide/indexing.html#returning-a-view-versus-a-copy\n",
      "  smd['keywords'] = smd['keywords'].apply(literal_eval)\n"
     ]
    }
   ],
   "source": [
    "#apply literal_eval from Abstract Syntax Trees (ast) to convert str into a list of dictionaries\n",
    "smd['cast'] = smd['cast'].apply(literal_eval)\n",
    "smd['crew'] = smd['crew'].apply(literal_eval)\n",
    "smd['keywords'] = smd['keywords'].apply(literal_eval)"
   ]
  },
  {
   "cell_type": "code",
   "execution_count": 38,
   "metadata": {},
   "outputs": [
    {
     "data": {
      "text/plain": [
       "[{'cast_id': 14,\n",
       "  'character': 'Woody (voice)',\n",
       "  'credit_id': '52fe4284c3a36847f8024f95',\n",
       "  'gender': 2,\n",
       "  'id': 31,\n",
       "  'name': 'Tom Hanks',\n",
       "  'order': 0,\n",
       "  'profile_path': '/pQFoyx7rp09CJTAb932F2g8Nlho.jpg'},\n",
       " {'cast_id': 15,\n",
       "  'character': 'Buzz Lightyear (voice)',\n",
       "  'credit_id': '52fe4284c3a36847f8024f99',\n",
       "  'gender': 2,\n",
       "  'id': 12898,\n",
       "  'name': 'Tim Allen',\n",
       "  'order': 1,\n",
       "  'profile_path': '/uX2xVf6pMmPepxnvFWyBtjexzgY.jpg'},\n",
       " {'cast_id': 16,\n",
       "  'character': 'Mr. Potato Head (voice)',\n",
       "  'credit_id': '52fe4284c3a36847f8024f9d',\n",
       "  'gender': 2,\n",
       "  'id': 7167,\n",
       "  'name': 'Don Rickles',\n",
       "  'order': 2,\n",
       "  'profile_path': '/h5BcaDMPRVLHLDzbQavec4xfSdt.jpg'},\n",
       " {'cast_id': 17,\n",
       "  'character': 'Slinky Dog (voice)',\n",
       "  'credit_id': '52fe4284c3a36847f8024fa1',\n",
       "  'gender': 2,\n",
       "  'id': 12899,\n",
       "  'name': 'Jim Varney',\n",
       "  'order': 3,\n",
       "  'profile_path': '/eIo2jVVXYgjDtaHoF19Ll9vtW7h.jpg'},\n",
       " {'cast_id': 18,\n",
       "  'character': 'Rex (voice)',\n",
       "  'credit_id': '52fe4284c3a36847f8024fa5',\n",
       "  'gender': 2,\n",
       "  'id': 12900,\n",
       "  'name': 'Wallace Shawn',\n",
       "  'order': 4,\n",
       "  'profile_path': '/oGE6JqPP2xH4tNORKNqxbNPYi7u.jpg'},\n",
       " {'cast_id': 19,\n",
       "  'character': 'Hamm (voice)',\n",
       "  'credit_id': '52fe4284c3a36847f8024fa9',\n",
       "  'gender': 2,\n",
       "  'id': 7907,\n",
       "  'name': 'John Ratzenberger',\n",
       "  'order': 5,\n",
       "  'profile_path': '/yGechiKWL6TJDfVE2KPSJYqdMsY.jpg'},\n",
       " {'cast_id': 20,\n",
       "  'character': 'Bo Peep (voice)',\n",
       "  'credit_id': '52fe4284c3a36847f8024fad',\n",
       "  'gender': 1,\n",
       "  'id': 8873,\n",
       "  'name': 'Annie Potts',\n",
       "  'order': 6,\n",
       "  'profile_path': '/eryXT84RL41jHSJcMy4kS3u9y6w.jpg'},\n",
       " {'cast_id': 26,\n",
       "  'character': 'Andy (voice)',\n",
       "  'credit_id': '52fe4284c3a36847f8024fc1',\n",
       "  'gender': 0,\n",
       "  'id': 1116442,\n",
       "  'name': 'John Morris',\n",
       "  'order': 7,\n",
       "  'profile_path': '/vYGyvK4LzeaUCoNSHtsuqJUY15M.jpg'},\n",
       " {'cast_id': 22,\n",
       "  'character': 'Sid (voice)',\n",
       "  'credit_id': '52fe4284c3a36847f8024fb1',\n",
       "  'gender': 2,\n",
       "  'id': 12901,\n",
       "  'name': 'Erik von Detten',\n",
       "  'order': 8,\n",
       "  'profile_path': '/twnF1ZaJ1FUNUuo6xLXwcxjayBE.jpg'},\n",
       " {'cast_id': 23,\n",
       "  'character': 'Mrs. Davis (voice)',\n",
       "  'credit_id': '52fe4284c3a36847f8024fb5',\n",
       "  'gender': 1,\n",
       "  'id': 12133,\n",
       "  'name': 'Laurie Metcalf',\n",
       "  'order': 9,\n",
       "  'profile_path': '/unMMIT60eoBM2sN2nyR7EZ2BvvD.jpg'},\n",
       " {'cast_id': 24,\n",
       "  'character': 'Sergeant (voice)',\n",
       "  'credit_id': '52fe4284c3a36847f8024fb9',\n",
       "  'gender': 2,\n",
       "  'id': 8655,\n",
       "  'name': 'R. Lee Ermey',\n",
       "  'order': 10,\n",
       "  'profile_path': '/r8GBqFBjypLUP9VVqDqfZ7wYbSs.jpg'},\n",
       " {'cast_id': 25,\n",
       "  'character': 'Hannah (voice)',\n",
       "  'credit_id': '52fe4284c3a36847f8024fbd',\n",
       "  'gender': 1,\n",
       "  'id': 12903,\n",
       "  'name': 'Sarah Freeman',\n",
       "  'order': 11,\n",
       "  'profile_path': None},\n",
       " {'cast_id': 27,\n",
       "  'character': 'TV Announcer (voice)',\n",
       "  'credit_id': '52fe4284c3a36847f8024fc5',\n",
       "  'gender': 2,\n",
       "  'id': 37221,\n",
       "  'name': 'Penn Jillette',\n",
       "  'order': 12,\n",
       "  'profile_path': '/zmAaXUdx12NRsssgHbk1T31j2x9.jpg'}]"
      ]
     },
     "execution_count": 38,
     "metadata": {},
     "output_type": "execute_result"
    }
   ],
   "source": [
    "smd.cast[0]"
   ]
  },
  {
   "cell_type": "code",
   "execution_count": 39,
   "metadata": {},
   "outputs": [
    {
     "data": {
      "text/plain": [
       "[{'credit_id': '52fe4284c3a36847f8024f49',\n",
       "  'department': 'Directing',\n",
       "  'gender': 2,\n",
       "  'id': 7879,\n",
       "  'job': 'Director',\n",
       "  'name': 'John Lasseter',\n",
       "  'profile_path': '/7EdqiNbr4FRjIhKHyPPdFfEEEFG.jpg'},\n",
       " {'credit_id': '52fe4284c3a36847f8024f4f',\n",
       "  'department': 'Writing',\n",
       "  'gender': 2,\n",
       "  'id': 12891,\n",
       "  'job': 'Screenplay',\n",
       "  'name': 'Joss Whedon',\n",
       "  'profile_path': '/dTiVsuaTVTeGmvkhcyJvKp2A5kr.jpg'},\n",
       " {'credit_id': '52fe4284c3a36847f8024f55',\n",
       "  'department': 'Writing',\n",
       "  'gender': 2,\n",
       "  'id': 7,\n",
       "  'job': 'Screenplay',\n",
       "  'name': 'Andrew Stanton',\n",
       "  'profile_path': '/pvQWsu0qc8JFQhMVJkTHuexUAa1.jpg'},\n",
       " {'credit_id': '52fe4284c3a36847f8024f5b',\n",
       "  'department': 'Writing',\n",
       "  'gender': 2,\n",
       "  'id': 12892,\n",
       "  'job': 'Screenplay',\n",
       "  'name': 'Joel Cohen',\n",
       "  'profile_path': '/dAubAiZcvKFbboWlj7oXOkZnTSu.jpg'},\n",
       " {'credit_id': '52fe4284c3a36847f8024f61',\n",
       "  'department': 'Writing',\n",
       "  'gender': 0,\n",
       "  'id': 12893,\n",
       "  'job': 'Screenplay',\n",
       "  'name': 'Alec Sokolow',\n",
       "  'profile_path': '/v79vlRYi94BZUQnkkyznbGUZLjT.jpg'},\n",
       " {'credit_id': '52fe4284c3a36847f8024f67',\n",
       "  'department': 'Production',\n",
       "  'gender': 1,\n",
       "  'id': 12894,\n",
       "  'job': 'Producer',\n",
       "  'name': 'Bonnie Arnold',\n",
       "  'profile_path': None},\n",
       " {'credit_id': '52fe4284c3a36847f8024f6d',\n",
       "  'department': 'Production',\n",
       "  'gender': 0,\n",
       "  'id': 12895,\n",
       "  'job': 'Executive Producer',\n",
       "  'name': 'Ed Catmull',\n",
       "  'profile_path': None},\n",
       " {'credit_id': '52fe4284c3a36847f8024f73',\n",
       "  'department': 'Production',\n",
       "  'gender': 2,\n",
       "  'id': 12896,\n",
       "  'job': 'Producer',\n",
       "  'name': 'Ralph Guggenheim',\n",
       "  'profile_path': None},\n",
       " {'credit_id': '52fe4284c3a36847f8024f79',\n",
       "  'department': 'Production',\n",
       "  'gender': 2,\n",
       "  'id': 12897,\n",
       "  'job': 'Executive Producer',\n",
       "  'name': 'Steve Jobs',\n",
       "  'profile_path': '/mOMP3SwD5qWQSR0ldCIByd3guTV.jpg'},\n",
       " {'credit_id': '52fe4284c3a36847f8024f8b',\n",
       "  'department': 'Editing',\n",
       "  'gender': 2,\n",
       "  'id': 8,\n",
       "  'job': 'Editor',\n",
       "  'name': 'Lee Unkrich',\n",
       "  'profile_path': '/bdTCCXjgOV3YyaNmLGYGOxFQMOc.jpg'},\n",
       " {'credit_id': '52fe4284c3a36847f8024f91',\n",
       "  'department': 'Art',\n",
       "  'gender': 2,\n",
       "  'id': 7883,\n",
       "  'job': 'Art Direction',\n",
       "  'name': 'Ralph Eggleston',\n",
       "  'profile_path': '/uUfcGKDsKO1aROMpXRs67Hn6RvR.jpg'},\n",
       " {'credit_id': '598331bf925141421201044b',\n",
       "  'department': 'Editing',\n",
       "  'gender': 2,\n",
       "  'id': 1168870,\n",
       "  'job': 'Editor',\n",
       "  'name': 'Robert Gordon',\n",
       "  'profile_path': None},\n",
       " {'credit_id': '5892168cc3a36809660095f9',\n",
       "  'department': 'Sound',\n",
       "  'gender': 0,\n",
       "  'id': 1552883,\n",
       "  'job': 'Foley Editor',\n",
       "  'name': 'Mary Helen Leasman',\n",
       "  'profile_path': None},\n",
       " {'credit_id': '5531824d9251415289000945',\n",
       "  'department': 'Visual Effects',\n",
       "  'gender': 0,\n",
       "  'id': 1453514,\n",
       "  'job': 'Animation',\n",
       "  'name': 'Kim Blanchette',\n",
       "  'profile_path': None},\n",
       " {'credit_id': '589215969251412dcb009bf6',\n",
       "  'department': 'Sound',\n",
       "  'gender': 0,\n",
       "  'id': 1414182,\n",
       "  'job': 'ADR Editor',\n",
       "  'name': 'Marilyn McCoppen',\n",
       "  'profile_path': None},\n",
       " {'credit_id': '589217099251412dc500a018',\n",
       "  'department': 'Sound',\n",
       "  'gender': 2,\n",
       "  'id': 7885,\n",
       "  'job': 'Orchestrator',\n",
       "  'name': 'Randy Newman',\n",
       "  'profile_path': '/w0JzfoiM25nrnxYOzosPHRq6mlE.jpg'},\n",
       " {'credit_id': '5693e6b29251417b0e0000e3',\n",
       "  'department': 'Editing',\n",
       "  'gender': 0,\n",
       "  'id': 1429549,\n",
       "  'job': 'Color Timer',\n",
       "  'name': 'Dale E. Grahn',\n",
       "  'profile_path': None},\n",
       " {'credit_id': '572e2522c3a36869e6001a9c',\n",
       "  'department': 'Visual Effects',\n",
       "  'gender': 0,\n",
       "  'id': 7949,\n",
       "  'job': 'CG Painter',\n",
       "  'name': 'Robin Cooper',\n",
       "  'profile_path': None},\n",
       " {'credit_id': '574f12309251415ca1000012',\n",
       "  'department': 'Writing',\n",
       "  'gender': 2,\n",
       "  'id': 7879,\n",
       "  'job': 'Original Story',\n",
       "  'name': 'John Lasseter',\n",
       "  'profile_path': '/7EdqiNbr4FRjIhKHyPPdFfEEEFG.jpg'},\n",
       " {'credit_id': '574f1240c3a3682e7300001c',\n",
       "  'department': 'Writing',\n",
       "  'gender': 2,\n",
       "  'id': 12890,\n",
       "  'job': 'Original Story',\n",
       "  'name': 'Pete Docter',\n",
       "  'profile_path': '/r6ngPgnReA3RHmKjmSoVsc6Awjp.jpg'},\n",
       " {'credit_id': '574f12519251415c92000015',\n",
       "  'department': 'Writing',\n",
       "  'gender': 0,\n",
       "  'id': 7911,\n",
       "  'job': 'Original Story',\n",
       "  'name': 'Joe Ranft',\n",
       "  'profile_path': '/f1BoWC2JbCcfP1e5hKfGsxkHzVU.jpg'},\n",
       " {'credit_id': '574f12cec3a3682e82000022',\n",
       "  'department': 'Crew',\n",
       "  'gender': 0,\n",
       "  'id': 1629419,\n",
       "  'job': 'Post Production Supervisor',\n",
       "  'name': 'Patsy Bouge',\n",
       "  'profile_path': None},\n",
       " {'credit_id': '574f14f19251415ca1000082',\n",
       "  'department': 'Art',\n",
       "  'gender': 0,\n",
       "  'id': 7961,\n",
       "  'job': 'Sculptor',\n",
       "  'name': 'Norm DeCarlo',\n",
       "  'profile_path': None},\n",
       " {'credit_id': '5751ae4bc3a3683772002b7f',\n",
       "  'department': 'Visual Effects',\n",
       "  'gender': 2,\n",
       "  'id': 12905,\n",
       "  'job': 'Animation Director',\n",
       "  'name': 'Ash Brannon',\n",
       "  'profile_path': '/6ueWgPEEBHvS3De2BHYQnYjRTig.jpg'},\n",
       " {'credit_id': '5891edbe9251412dc5007cd6',\n",
       "  'department': 'Sound',\n",
       "  'gender': 2,\n",
       "  'id': 7885,\n",
       "  'job': 'Music',\n",
       "  'name': 'Randy Newman',\n",
       "  'profile_path': '/w0JzfoiM25nrnxYOzosPHRq6mlE.jpg'},\n",
       " {'credit_id': '589213d39251412dc8009832',\n",
       "  'department': 'Directing',\n",
       "  'gender': 0,\n",
       "  'id': 1748707,\n",
       "  'job': 'Layout',\n",
       "  'name': 'Roman Figun',\n",
       "  'profile_path': None},\n",
       " {'credit_id': '5892173dc3a3680968009351',\n",
       "  'department': 'Sound',\n",
       "  'gender': 2,\n",
       "  'id': 4949,\n",
       "  'job': 'Orchestrator',\n",
       "  'name': 'Don Davis',\n",
       "  'profile_path': None},\n",
       " {'credit_id': '589217cec3a3686b0a0052ba',\n",
       "  'department': 'Sound',\n",
       "  'gender': 0,\n",
       "  'id': 1372885,\n",
       "  'job': 'Music Editor',\n",
       "  'name': 'James Flamberg',\n",
       "  'profile_path': None},\n",
       " {'credit_id': '58921831c3a3686348004a64',\n",
       "  'department': 'Editing',\n",
       "  'gender': 0,\n",
       "  'id': 1739962,\n",
       "  'job': 'Negative Cutter',\n",
       "  'name': 'Mary Beth Smith',\n",
       "  'profile_path': None},\n",
       " {'credit_id': '58921838c3a36809700096c0',\n",
       "  'department': 'Editing',\n",
       "  'gender': 0,\n",
       "  'id': 1748513,\n",
       "  'job': 'Negative Cutter',\n",
       "  'name': 'Rick Mackay',\n",
       "  'profile_path': None},\n",
       " {'credit_id': '589218429251412dd1009d1b',\n",
       "  'department': 'Art',\n",
       "  'gender': 0,\n",
       "  'id': 1458006,\n",
       "  'job': 'Title Designer',\n",
       "  'name': 'Susan Bradley',\n",
       "  'profile_path': None},\n",
       " {'credit_id': '5891ed99c3a3680966007670',\n",
       "  'department': 'Crew',\n",
       "  'gender': 0,\n",
       "  'id': 1748557,\n",
       "  'job': 'Supervising Technical Director',\n",
       "  'name': 'William Reeves',\n",
       "  'profile_path': None},\n",
       " {'credit_id': '5891edcec3a3686b0a002eb2',\n",
       "  'department': 'Sound',\n",
       "  'gender': 2,\n",
       "  'id': 7885,\n",
       "  'job': 'Songs',\n",
       "  'name': 'Randy Newman',\n",
       "  'profile_path': '/w0JzfoiM25nrnxYOzosPHRq6mlE.jpg'},\n",
       " {'credit_id': '5891edf9c3a36809700075e6',\n",
       "  'department': 'Writing',\n",
       "  'gender': 2,\n",
       "  'id': 7,\n",
       "  'job': 'Original Story',\n",
       "  'name': 'Andrew Stanton',\n",
       "  'profile_path': '/pvQWsu0qc8JFQhMVJkTHuexUAa1.jpg'},\n",
       " {'credit_id': '58920f0b9251412dd7009104',\n",
       "  'department': 'Crew',\n",
       "  'gender': 2,\n",
       "  'id': 12890,\n",
       "  'job': 'Supervising Animator',\n",
       "  'name': 'Pete Docter',\n",
       "  'profile_path': '/r6ngPgnReA3RHmKjmSoVsc6Awjp.jpg'},\n",
       " {'credit_id': '58920f1fc3a3680977009021',\n",
       "  'department': 'Sound',\n",
       "  'gender': 2,\n",
       "  'id': 2216,\n",
       "  'job': 'Sound Designer',\n",
       "  'name': 'Gary Rydstrom',\n",
       "  'profile_path': '/jZpr1nVfO7lldWI0YtmP1FGw7Rj.jpg'},\n",
       " {'credit_id': '58920f389251412dd700912d',\n",
       "  'department': 'Production',\n",
       "  'gender': 0,\n",
       "  'id': 12909,\n",
       "  'job': 'Production Supervisor',\n",
       "  'name': 'Karen Robert Jackson',\n",
       "  'profile_path': None},\n",
       " {'credit_id': '58920fbd9251412dcb00969c',\n",
       "  'department': 'Crew',\n",
       "  'gender': 0,\n",
       "  'id': 953331,\n",
       "  'job': 'Executive Music Producer',\n",
       "  'name': 'Chris Montan',\n",
       "  'profile_path': None},\n",
       " {'credit_id': '589210069251412dd7009219',\n",
       "  'department': 'Visual Effects',\n",
       "  'gender': 0,\n",
       "  'id': 7893,\n",
       "  'job': 'Animation Director',\n",
       "  'name': 'Rich Quade',\n",
       "  'profile_path': None},\n",
       " {'credit_id': '589210329251412dcd00943b',\n",
       "  'department': 'Visual Effects',\n",
       "  'gender': 0,\n",
       "  'id': 8025,\n",
       "  'job': 'Animation',\n",
       "  'name': 'Michael Berenstein',\n",
       "  'profile_path': None},\n",
       " {'credit_id': '5892103bc3a368096a009180',\n",
       "  'department': 'Visual Effects',\n",
       "  'gender': 0,\n",
       "  'id': 78009,\n",
       "  'job': 'Animation',\n",
       "  'name': 'Colin Brady',\n",
       "  'profile_path': None},\n",
       " {'credit_id': '5892105dc3a3680968008db2',\n",
       "  'department': 'Visual Effects',\n",
       "  'gender': 0,\n",
       "  'id': 1748682,\n",
       "  'job': 'Animation',\n",
       "  'name': 'Davey Crockett Feiten',\n",
       "  'profile_path': None},\n",
       " {'credit_id': '589210669251412dcd009466',\n",
       "  'department': 'Visual Effects',\n",
       "  'gender': 0,\n",
       "  'id': 1454030,\n",
       "  'job': 'Animation',\n",
       "  'name': 'Angie Glocka',\n",
       "  'profile_path': None},\n",
       " {'credit_id': '5892107c9251412dd1009613',\n",
       "  'department': 'Visual Effects',\n",
       "  'gender': 0,\n",
       "  'id': 1748683,\n",
       "  'job': 'Animation',\n",
       "  'name': 'Rex Grignon',\n",
       "  'profile_path': None},\n",
       " {'credit_id': '5892108ac3a3680973008d3f',\n",
       "  'department': 'Visual Effects',\n",
       "  'gender': 0,\n",
       "  'id': 1748684,\n",
       "  'job': 'Animation',\n",
       "  'name': 'Tom K. Gurney',\n",
       "  'profile_path': None},\n",
       " {'credit_id': '58921093c3a3686348004477',\n",
       "  'department': 'Visual Effects',\n",
       "  'gender': 2,\n",
       "  'id': 8029,\n",
       "  'job': 'Animation',\n",
       "  'name': 'Jimmy Hayward',\n",
       "  'profile_path': '/lTDRpudEY7BDwTefXbXzMlmb0ui.jpg'},\n",
       " {'credit_id': '5892109b9251412dcd0094b0',\n",
       "  'department': 'Visual Effects',\n",
       "  'gender': 0,\n",
       "  'id': 1426773,\n",
       "  'job': 'Animation',\n",
       "  'name': 'Hal T. Hickel',\n",
       "  'profile_path': None},\n",
       " {'credit_id': '589210a29251412dc5009a29',\n",
       "  'department': 'Visual Effects',\n",
       "  'gender': 0,\n",
       "  'id': 8035,\n",
       "  'job': 'Animation',\n",
       "  'name': 'Karen Kiser',\n",
       "  'profile_path': None},\n",
       " {'credit_id': '589210ccc3a3680977009191',\n",
       "  'department': 'Visual Effects',\n",
       "  'gender': 0,\n",
       "  'id': 1748688,\n",
       "  'job': 'Animation',\n",
       "  'name': 'Anthony B. LaMolinara',\n",
       "  'profile_path': None},\n",
       " {'credit_id': '589210d7c3a3686b0a004c1f',\n",
       "  'department': 'Visual Effects',\n",
       "  'gender': 0,\n",
       "  'id': 587314,\n",
       "  'job': 'Animation',\n",
       "  'name': 'Guionne Leroy',\n",
       "  'profile_path': None},\n",
       " {'credit_id': '589210e1c3a36809770091a7',\n",
       "  'department': 'Visual Effects',\n",
       "  'gender': 2,\n",
       "  'id': 7918,\n",
       "  'job': 'Animation',\n",
       "  'name': 'Bud Luckey',\n",
       "  'profile_path': '/pcCh7G19FKMNijmPQg1PMH1btic.jpg'},\n",
       " {'credit_id': '589210ee9251412dc200978a',\n",
       "  'department': 'Visual Effects',\n",
       "  'gender': 0,\n",
       "  'id': 1748689,\n",
       "  'job': 'Animation',\n",
       "  'name': 'Les Major',\n",
       "  'profile_path': None},\n",
       " {'credit_id': '589210fa9251412dc8009595',\n",
       "  'department': 'Visual Effects',\n",
       "  'gender': 2,\n",
       "  'id': 7892,\n",
       "  'job': 'Animation',\n",
       "  'name': 'Glenn McQueen',\n",
       "  'profile_path': None},\n",
       " {'credit_id': '589211029251412dc8009598',\n",
       "  'department': 'Visual Effects',\n",
       "  'gender': 0,\n",
       "  'id': 555795,\n",
       "  'job': 'Animation',\n",
       "  'name': 'Mark Oftedal',\n",
       "  'profile_path': None},\n",
       " {'credit_id': '5892110b9251412dc800959d',\n",
       "  'department': 'Visual Effects',\n",
       "  'gender': 2,\n",
       "  'id': 7882,\n",
       "  'job': 'Animation',\n",
       "  'name': 'Jeff Pidgeon',\n",
       "  'profile_path': '/yLddkg5HcgbJg00cS13GVBnP0HY.jpg'},\n",
       " {'credit_id': '58921113c3a36863480044e4',\n",
       "  'department': 'Visual Effects',\n",
       "  'gender': 0,\n",
       "  'id': 8017,\n",
       "  'job': 'Animation',\n",
       "  'name': 'Jeff Pratt',\n",
       "  'profile_path': None},\n",
       " {'credit_id': '5892111c9251412dcb0097e9',\n",
       "  'department': 'Visual Effects',\n",
       "  'gender': 0,\n",
       "  'id': 1184140,\n",
       "  'job': 'Animation',\n",
       "  'name': 'Steve Rabatich',\n",
       "  'profile_path': None},\n",
       " {'credit_id': '58921123c3a36809700090f6',\n",
       "  'department': 'Visual Effects',\n",
       "  'gender': 0,\n",
       "  'id': 8049,\n",
       "  'job': 'Animation',\n",
       "  'name': 'Roger Rose',\n",
       "  'profile_path': None},\n",
       " {'credit_id': '5892112b9251412dcb0097fb',\n",
       "  'department': 'Visual Effects',\n",
       "  'gender': 0,\n",
       "  'id': 1509559,\n",
       "  'job': 'Animation',\n",
       "  'name': 'Steve Segal',\n",
       "  'profile_path': None},\n",
       " {'credit_id': '589211349251412dc80095c3',\n",
       "  'department': 'Visual Effects',\n",
       "  'gender': 0,\n",
       "  'id': 1748691,\n",
       "  'job': 'Animation',\n",
       "  'name': 'Doug Sheppeck',\n",
       "  'profile_path': None},\n",
       " {'credit_id': '5892113cc3a3680970009106',\n",
       "  'department': 'Visual Effects',\n",
       "  'gender': 0,\n",
       "  'id': 8050,\n",
       "  'job': 'Animation',\n",
       "  'name': 'Alan Sperling',\n",
       "  'profile_path': None},\n",
       " {'credit_id': '58921148c3a3686b0a004c99',\n",
       "  'department': 'Visual Effects',\n",
       "  'gender': 0,\n",
       "  'id': 8010,\n",
       "  'job': 'Animation',\n",
       "  'name': 'Doug Sweetland',\n",
       "  'profile_path': None},\n",
       " {'credit_id': '58921150c3a3680966009125',\n",
       "  'department': 'Visual Effects',\n",
       "  'gender': 0,\n",
       "  'id': 8044,\n",
       "  'job': 'Animation',\n",
       "  'name': 'David Tart',\n",
       "  'profile_path': None},\n",
       " {'credit_id': '589211629251412dc5009b00',\n",
       "  'department': 'Visual Effects',\n",
       "  'gender': 0,\n",
       "  'id': 1454034,\n",
       "  'job': 'Animation',\n",
       "  'name': 'Ken Willard',\n",
       "  'profile_path': None},\n",
       " {'credit_id': '589211c1c3a3686b0a004d28',\n",
       "  'department': 'Visual Effects',\n",
       "  'gender': 0,\n",
       "  'id': 7887,\n",
       "  'job': 'Visual Effects Supervisor',\n",
       "  'name': 'Thomas Porter',\n",
       "  'profile_path': None},\n",
       " {'credit_id': '589211d4c3a3680968008ed9',\n",
       "  'department': 'Visual Effects',\n",
       "  'gender': 0,\n",
       "  'id': 1406878,\n",
       "  'job': 'Visual Effects',\n",
       "  'name': 'Mark Thomas Henne',\n",
       "  'profile_path': None},\n",
       " {'credit_id': '589211f59251412dd4008e65',\n",
       "  'department': 'Visual Effects',\n",
       "  'gender': 0,\n",
       "  'id': 1748698,\n",
       "  'job': 'Visual Effects',\n",
       "  'name': 'Oren Jacob',\n",
       "  'profile_path': None},\n",
       " {'credit_id': '58921242c3a368096a00939b',\n",
       "  'department': 'Visual Effects',\n",
       "  'gender': 0,\n",
       "  'id': 1748699,\n",
       "  'job': 'Visual Effects',\n",
       "  'name': 'Darwyn Peachey',\n",
       "  'profile_path': None},\n",
       " {'credit_id': '5892124b9251412dc5009bd2',\n",
       "  'department': 'Visual Effects',\n",
       "  'gender': 0,\n",
       "  'id': 1748701,\n",
       "  'job': 'Visual Effects',\n",
       "  'name': 'Mitch Prater',\n",
       "  'profile_path': None},\n",
       " {'credit_id': '58921264c3a3686b0a004dbf',\n",
       "  'department': 'Visual Effects',\n",
       "  'gender': 0,\n",
       "  'id': 1748703,\n",
       "  'job': 'Visual Effects',\n",
       "  'name': 'Brian M. Rosen',\n",
       "  'profile_path': None},\n",
       " {'credit_id': '589212709251412dcd009676',\n",
       "  'department': 'Lighting',\n",
       "  'gender': 1,\n",
       "  'id': 12912,\n",
       "  'job': 'Lighting Supervisor',\n",
       "  'name': 'Sharon Calahan',\n",
       "  'profile_path': None},\n",
       " {'credit_id': '5892127fc3a3686b0a004de5',\n",
       "  'department': 'Lighting',\n",
       "  'gender': 0,\n",
       "  'id': 7899,\n",
       "  'job': 'Lighting Supervisor',\n",
       "  'name': 'Galyn Susman',\n",
       "  'profile_path': None},\n",
       " {'credit_id': '589212cdc3a3680970009268',\n",
       "  'department': 'Visual Effects',\n",
       "  'gender': 0,\n",
       "  'id': 12915,\n",
       "  'job': 'CG Painter',\n",
       "  'name': 'William Cone',\n",
       "  'profile_path': None},\n",
       " {'credit_id': '5892130f9251412dc8009791',\n",
       "  'department': 'Art',\n",
       "  'gender': 0,\n",
       "  'id': 1748705,\n",
       "  'job': 'Sculptor',\n",
       "  'name': 'Shelley Daniels Lekven',\n",
       "  'profile_path': None},\n",
       " {'credit_id': '5892131c9251412dd4008f4c',\n",
       "  'department': 'Visual Effects',\n",
       "  'gender': 2,\n",
       "  'id': 7889,\n",
       "  'job': 'Character Designer',\n",
       "  'name': 'Bob Pauley',\n",
       "  'profile_path': None},\n",
       " {'credit_id': '589213249251412dd100987b',\n",
       "  'department': 'Visual Effects',\n",
       "  'gender': 2,\n",
       "  'id': 7918,\n",
       "  'job': 'Character Designer',\n",
       "  'name': 'Bud Luckey',\n",
       "  'profile_path': '/pcCh7G19FKMNijmPQg1PMH1btic.jpg'},\n",
       " {'credit_id': '5892132b9251412dc80097b1',\n",
       "  'department': 'Visual Effects',\n",
       "  'gender': 2,\n",
       "  'id': 7,\n",
       "  'job': 'Character Designer',\n",
       "  'name': 'Andrew Stanton',\n",
       "  'profile_path': '/pvQWsu0qc8JFQhMVJkTHuexUAa1.jpg'},\n",
       " {'credit_id': '58921332c3a368634800467b',\n",
       "  'department': 'Visual Effects',\n",
       "  'gender': 0,\n",
       "  'id': 12915,\n",
       "  'job': 'Character Designer',\n",
       "  'name': 'William Cone',\n",
       "  'profile_path': None},\n",
       " {'credit_id': '5892135f9251412dd4008f90',\n",
       "  'department': 'Visual Effects',\n",
       "  'gender': 0,\n",
       "  'id': 1748706,\n",
       "  'job': 'Character Designer',\n",
       "  'name': 'Steve Johnson',\n",
       "  'profile_path': None},\n",
       " {'credit_id': '58921384c3a3680973008fd4',\n",
       "  'department': 'Visual Effects',\n",
       "  'gender': 0,\n",
       "  'id': 1176752,\n",
       "  'job': 'Character Designer',\n",
       "  'name': 'Dan Haskett',\n",
       "  'profile_path': None},\n",
       " {'credit_id': '5892138e9251412dc20099fc',\n",
       "  'department': 'Visual Effects',\n",
       "  'gender': 0,\n",
       "  'id': 1088034,\n",
       "  'job': 'Character Designer',\n",
       "  'name': 'Tom Holloway',\n",
       "  'profile_path': '/a0r0T2usTBpgMI5aZbRBDW1fTl8.jpg'},\n",
       " {'credit_id': '58921395c3a368097700942f',\n",
       "  'department': 'Visual Effects',\n",
       "  'gender': 0,\n",
       "  'id': 1447465,\n",
       "  'job': 'Character Designer',\n",
       "  'name': 'Jean Gillmore',\n",
       "  'profile_path': None},\n",
       " {'credit_id': '589213e2c3a3680973009026',\n",
       "  'department': 'Directing',\n",
       "  'gender': 0,\n",
       "  'id': 1748709,\n",
       "  'job': 'Layout',\n",
       "  'name': 'Desirée Mourad',\n",
       "  'profile_path': None},\n",
       " {'credit_id': '589214099251412dc5009d57',\n",
       "  'department': 'Art',\n",
       "  'gender': 0,\n",
       "  'id': 1748710,\n",
       "  'job': 'Set Dresser',\n",
       "  'name': \"Kelly O'Connell\",\n",
       "  'profile_path': None},\n",
       " {'credit_id': '58921411c3a3686b0a004f70',\n",
       "  'department': 'Art',\n",
       "  'gender': 0,\n",
       "  'id': 1443471,\n",
       "  'job': 'Set Dresser',\n",
       "  'name': 'Sonoko Konishi',\n",
       "  'profile_path': None},\n",
       " {'credit_id': '58921434c3a368096a00956e',\n",
       "  'department': 'Art',\n",
       "  'gender': 0,\n",
       "  'id': 1748711,\n",
       "  'job': 'Set Dresser',\n",
       "  'name': 'Ann M. Rockwell',\n",
       "  'profile_path': None},\n",
       " {'credit_id': '5892144ac3a36809680090de',\n",
       "  'department': 'Editing',\n",
       "  'gender': 0,\n",
       "  'id': 1748712,\n",
       "  'job': 'Editorial Manager',\n",
       "  'name': 'Julie M. McDonald',\n",
       "  'profile_path': None},\n",
       " {'credit_id': '58921479c3a368096800910f',\n",
       "  'department': 'Editing',\n",
       "  'gender': 0,\n",
       "  'id': 1589729,\n",
       "  'job': 'Assistant Editor',\n",
       "  'name': 'Robin Lee',\n",
       "  'profile_path': None},\n",
       " {'credit_id': '5892148b9251412dd10099cc',\n",
       "  'department': 'Editing',\n",
       "  'gender': 0,\n",
       "  'id': 1748716,\n",
       "  'job': 'Assistant Editor',\n",
       "  'name': 'Tom Freeman',\n",
       "  'profile_path': None},\n",
       " {'credit_id': '589214959251412dcb009b1f',\n",
       "  'department': 'Editing',\n",
       "  'gender': 0,\n",
       "  'id': 1748717,\n",
       "  'job': 'Assistant Editor',\n",
       "  'name': 'Ada Cochavi',\n",
       "  'profile_path': None},\n",
       " {'credit_id': '5892149ec3a3686348004798',\n",
       "  'department': 'Editing',\n",
       "  'gender': 0,\n",
       "  'id': 1336438,\n",
       "  'job': 'Assistant Editor',\n",
       "  'name': 'Dana Mulligan',\n",
       "  'profile_path': None},\n",
       " {'credit_id': '589214adc3a368096a0095db',\n",
       "  'department': 'Editing',\n",
       "  'gender': 0,\n",
       "  'id': 1748718,\n",
       "  'job': 'Editorial Coordinator',\n",
       "  'name': 'Deirdre Morrison',\n",
       "  'profile_path': None},\n",
       " {'credit_id': '589214c7c3a368097700952b',\n",
       "  'department': 'Production',\n",
       "  'gender': 0,\n",
       "  'id': 1748719,\n",
       "  'job': 'Production Coordinator',\n",
       "  'name': 'Lori Lombardo',\n",
       "  'profile_path': None},\n",
       " {'credit_id': '589214cec3a368096a009603',\n",
       "  'department': 'Production',\n",
       "  'gender': 0,\n",
       "  'id': 1748720,\n",
       "  'job': 'Production Coordinator',\n",
       "  'name': 'Ellen Devine',\n",
       "  'profile_path': None},\n",
       " {'credit_id': '589214e39251412dc8009904',\n",
       "  'department': 'Crew',\n",
       "  'gender': 0,\n",
       "  'id': 1468014,\n",
       "  'job': 'Unit Publicist',\n",
       "  'name': 'Lauren Beth Strogoff',\n",
       "  'profile_path': None},\n",
       " {'credit_id': '58921544c3a3686b0a00507d',\n",
       "  'department': 'Sound',\n",
       "  'gender': 2,\n",
       "  'id': 2216,\n",
       "  'job': 'Sound Re-Recording Mixer',\n",
       "  'name': 'Gary Rydstrom',\n",
       "  'profile_path': '/jZpr1nVfO7lldWI0YtmP1FGw7Rj.jpg'},\n",
       " {'credit_id': '5892154c9251412dd1009a56',\n",
       "  'department': 'Sound',\n",
       "  'gender': 0,\n",
       "  'id': 1425978,\n",
       "  'job': 'Sound Re-Recording Mixer',\n",
       "  'name': 'Gary Summers',\n",
       "  'profile_path': None},\n",
       " {'credit_id': '58921555c3a36809680091bd',\n",
       "  'department': 'Sound',\n",
       "  'gender': 2,\n",
       "  'id': 8276,\n",
       "  'job': 'Supervising Sound Editor',\n",
       "  'name': 'Tim Holland',\n",
       "  'profile_path': None},\n",
       " {'credit_id': '589215c39251412dcb009c12',\n",
       "  'department': 'Sound',\n",
       "  'gender': 0,\n",
       "  'id': 7069,\n",
       "  'job': 'Sound Effects Editor',\n",
       "  'name': 'Pat Jackson',\n",
       "  'profile_path': None},\n",
       " {'credit_id': '58921698c3a368096a009788',\n",
       "  'department': 'Crew',\n",
       "  'gender': 2,\n",
       "  'id': 15894,\n",
       "  'job': 'Sound Design Assistant',\n",
       "  'name': 'Tom Myers',\n",
       "  'profile_path': None},\n",
       " {'credit_id': '589216a89251412dc2009ca4',\n",
       "  'department': 'Sound',\n",
       "  'gender': 0,\n",
       "  'id': 1414177,\n",
       "  'job': 'Assistant Sound Editor',\n",
       "  'name': 'J.R. Grubbs',\n",
       "  'profile_path': None},\n",
       " {'credit_id': '589216c19251412dc2009cb9',\n",
       "  'department': 'Sound',\n",
       "  'gender': 1,\n",
       "  'id': 1748724,\n",
       "  'job': 'Assistant Sound Editor',\n",
       "  'name': 'Susan Sanford',\n",
       "  'profile_path': None},\n",
       " {'credit_id': '589216ccc3a3680973009274',\n",
       "  'department': 'Sound',\n",
       "  'gender': 0,\n",
       "  'id': 1748725,\n",
       "  'job': 'Assistant Sound Editor',\n",
       "  'name': 'Susan Popovic',\n",
       "  'profile_path': None},\n",
       " {'credit_id': '589216d79251412dc8009aa0',\n",
       "  'department': 'Sound',\n",
       "  'gender': 0,\n",
       "  'id': 8067,\n",
       "  'job': 'Assistant Sound Editor',\n",
       "  'name': 'Dan Engstrom',\n",
       "  'profile_path': None},\n",
       " {'credit_id': '589216e49251412dcd009a4f',\n",
       "  'department': 'Production',\n",
       "  'gender': 1,\n",
       "  'id': 7902,\n",
       "  'job': 'Casting Consultant',\n",
       "  'name': 'Ruth Lambert',\n",
       "  'profile_path': None},\n",
       " {'credit_id': '589216f39251412dc2009cf3',\n",
       "  'department': 'Production',\n",
       "  'gender': 0,\n",
       "  'id': 84493,\n",
       "  'job': 'ADR Voice Casting',\n",
       "  'name': 'Mickie McGowan',\n",
       "  'profile_path': '/k7TjJBfINsg8vLQxJwos6XObAD6.jpg'}]"
      ]
     },
     "execution_count": 39,
     "metadata": {},
     "output_type": "execute_result"
    }
   ],
   "source": [
    "smd.crew[0]"
   ]
  },
  {
   "cell_type": "code",
   "execution_count": 40,
   "metadata": {},
   "outputs": [
    {
     "data": {
      "text/plain": [
       "[{'id': 931, 'name': 'jealousy'},\n",
       " {'id': 4290, 'name': 'toy'},\n",
       " {'id': 5202, 'name': 'boy'},\n",
       " {'id': 6054, 'name': 'friendship'},\n",
       " {'id': 9713, 'name': 'friends'},\n",
       " {'id': 9823, 'name': 'rivalry'},\n",
       " {'id': 165503, 'name': 'boy next door'},\n",
       " {'id': 170722, 'name': 'new toy'},\n",
       " {'id': 187065, 'name': 'toy comes to life'}]"
      ]
     },
     "execution_count": 40,
     "metadata": {},
     "output_type": "execute_result"
    }
   ],
   "source": [
    "#print keywords column\n",
    "smd.keywords[0]"
   ]
  },
  {
   "cell_type": "code",
   "execution_count": 41,
   "metadata": {},
   "outputs": [],
   "source": [
    "#reset index \n",
    "smd = smd.reset_index()"
   ]
  },
  {
   "cell_type": "markdown",
   "metadata": {},
   "source": [
    "Since the cast, crew and keywords columns contain list of dictionaries the relevant content needs to be extracted for further usage."
   ]
  },
  {
   "cell_type": "code",
   "execution_count": 42,
   "metadata": {},
   "outputs": [
    {
     "data": {
      "text/plain": [
       "['Tom Hanks',\n",
       " 'Tim Allen',\n",
       " 'Don Rickles',\n",
       " 'Jim Varney',\n",
       " 'Wallace Shawn',\n",
       " 'John Ratzenberger',\n",
       " 'Annie Potts',\n",
       " 'John Morris',\n",
       " 'Erik von Detten',\n",
       " 'Laurie Metcalf',\n",
       " 'R. Lee Ermey',\n",
       " 'Sarah Freeman',\n",
       " 'Penn Jillette']"
      ]
     },
     "execution_count": 42,
     "metadata": {},
     "output_type": "execute_result"
    }
   ],
   "source": [
    "# convert dictionary content to lists\n",
    "\n",
    "names = [d['name'] for d in smd.cast[0]]\n",
    "names"
   ]
  },
  {
   "cell_type": "code",
   "execution_count": 43,
   "metadata": {},
   "outputs": [
    {
     "data": {
      "text/plain": [
       "{'credit_id': '52fe4284c3a36847f8024f49',\n",
       " 'department': 'Directing',\n",
       " 'gender': 2,\n",
       " 'id': 7879,\n",
       " 'job': 'Director',\n",
       " 'name': 'John Lasseter',\n",
       " 'profile_path': '/7EdqiNbr4FRjIhKHyPPdFfEEEFG.jpg'}"
      ]
     },
     "execution_count": 43,
     "metadata": {},
     "output_type": "execute_result"
    }
   ],
   "source": [
    "#inspect first element\n",
    "smd.crew[0][0]"
   ]
  },
  {
   "cell_type": "code",
   "execution_count": 44,
   "metadata": {},
   "outputs": [],
   "source": [
    "#create function to get list of lists\n",
    "def get_lists(key, column):\n",
    "    \"\"\"this function takes in a keyword (key) which is to be extracted and a column containing this key. The output is a column containg the respective values a lists\n",
    "    \"\"\"\n",
    "    x = []\n",
    "\n",
    "    for i in range(smd.shape[0]):\n",
    "        values = [d[f\"{key}\"] for d in smd[f\"{column}\"][i]]\n",
    "        x.append(values)\n",
    "    return x"
   ]
  },
  {
   "cell_type": "code",
   "execution_count": 45,
   "metadata": {},
   "outputs": [],
   "source": [
    "# add new columns to smd data frame\n",
    "smd[\"crew_jobs\"] = pd.Series(get_lists(\"job\", \"crew\"))\n",
    "smd[\"actors\"] = pd.Series(get_lists(\"name\", \"cast\"))\n",
    "smd[\"keywords\"] = pd.Series(get_lists(\"name\", \"keywords\"))"
   ]
  },
  {
   "cell_type": "code",
   "execution_count": 117,
   "metadata": {},
   "outputs": [
    {
     "data": {
      "text/plain": [
       "0       [Director, Screenplay, Screenplay, Screenplay,...\n",
       "1       [Executive Producer, Screenplay, Original Musi...\n",
       "2         [Director, Characters, Writer, Sound Recordist]\n",
       "3       [Director, Screenplay, Producer, Producer, Pro...\n",
       "4       [Original Music Composer, Director of Photogra...\n",
       "                              ...                        \n",
       "9652    [Sound Designer, Director, Novel, Producer, Pr...\n",
       "9653    [Director, Director, Director, Director, Write...\n",
       "9654                                   [Director, Writer]\n",
       "9655                                                   []\n",
       "9656    [Producer, Executive Producer, Executive Produ...\n",
       "Name: crew_jobs, Length: 9657, dtype: object"
      ]
     },
     "execution_count": 117,
     "metadata": {},
     "output_type": "execute_result"
    }
   ],
   "source": [
    "smd.crew_jobs"
   ]
  },
  {
   "cell_type": "code",
   "execution_count": 46,
   "metadata": {},
   "outputs": [
    {
     "data": {
      "text/plain": [
       "Index(['index', 'adult', 'belongs_to_collection', 'budget', 'genres',\n",
       "       'homepage', 'id', 'imdb_id', 'original_language', 'original_title',\n",
       "       'overview', 'popularity', 'poster_path', 'production_companies',\n",
       "       'production_countries', 'release_date', 'revenue', 'runtime',\n",
       "       'spoken_languages', 'status', 'tagline', 'title', 'video',\n",
       "       'vote_average', 'vote_count', 'cast', 'crew', 'keywords', 'crew_jobs',\n",
       "       'actors'],\n",
       "      dtype='object')"
      ]
     },
     "execution_count": 46,
     "metadata": {},
     "output_type": "execute_result"
    }
   ],
   "source": [
    "# check\n",
    "smd.columns"
   ]
  },
  {
   "cell_type": "markdown",
   "metadata": {},
   "source": [
    "### Model with new features"
   ]
  },
  {
   "cell_type": "code",
   "execution_count": 47,
   "metadata": {},
   "outputs": [
    {
     "name": "stderr",
     "output_type": "stream",
     "text": [
      "/var/folders/0f/5nqwl_8j7n1dmfgmn2m0tztw0000gn/T/ipykernel_17254/3472090846.py:2: UserWarning: Pandas doesn't allow columns to be created via a new attribute name - see https://pandas.pydata.org/pandas-docs/stable/indexing.html#attribute-access\n",
      "  smd.actors_str = smd.actors.apply(\" \".join)\n"
     ]
    }
   ],
   "source": [
    "#convert list to string and create column with strings \n",
    "smd.actors_str = smd.actors.apply(\" \".join)"
   ]
  },
  {
   "cell_type": "code",
   "execution_count": 48,
   "metadata": {},
   "outputs": [
    {
     "data": {
      "text/plain": [
       "0       Tom Hanks Tim Allen Don Rickles Jim Varney Wal...\n",
       "1       Robin Williams Jonathan Hyde Kirsten Dunst Bra...\n",
       "2       Walter Matthau Jack Lemmon Ann-Margret Sophia ...\n",
       "3       Whitney Houston Angela Bassett Loretta Devine ...\n",
       "4       Steve Martin Diane Keaton Martin Short Kimberl...\n",
       "                              ...                        \n",
       "9652    Michel Piccoli Miou-Miou Béatrice Romand Franc...\n",
       "9653                                     Brunhilde Pomsel\n",
       "9654    Julian Radlmaier Deragh Campbell Beniamin Fort...\n",
       "9655                                    Helmut Qualtinger\n",
       "9656    Grey Griffin Tara Strong Anais Fairweather Tea...\n",
       "Name: actors, Length: 9657, dtype: object"
      ]
     },
     "execution_count": 48,
     "metadata": {},
     "output_type": "execute_result"
    }
   ],
   "source": [
    "#check\n",
    "smd.actors_str"
   ]
  },
  {
   "cell_type": "code",
   "execution_count": 49,
   "metadata": {},
   "outputs": [
    {
     "data": {
      "text/plain": [
       "2365                        The Green Mile\n",
       "7402                       Never Let Me Go\n",
       "853                                The Fog\n",
       "1383                            Henry Fool\n",
       "4087                    The Quiet American\n",
       "1694    The Fiendish Plot of Dr. Fu Manchu\n",
       "1215                        Kiss the Girls\n",
       "2082                               Head On\n",
       "955                                      M\n",
       "8350                                  Noah\n",
       "Name: title, dtype: object"
      ]
     },
     "execution_count": 49,
     "metadata": {},
     "output_type": "execute_result"
    }
   ],
   "source": [
    "# create description column \n",
    "\n",
    "smd['description'] = smd['overview'] + smd.actors_str\n",
    "smd['description'] = smd['description'].fillna('')\n",
    "\n",
    "# NLP\n",
    "tf = TfidfVectorizer(analyzer='word',ngram_range=(1, 2),min_df=0, stop_words='english')\n",
    "tfidf_matrix = tf.fit_transform(smd['description'])\n",
    "\n",
    "#calculate similarity with cosine similarity measure\n",
    "cosine_sim = linear_kernel(tfidf_matrix, tfidf_matrix)\n",
    "\n",
    "#recommendataion\n",
    "get_recommendations('Toy Story')[:10]"
   ]
  },
  {
   "cell_type": "markdown",
   "metadata": {},
   "source": [
    "In case of Toy story, which is an animation film, recommendation based on actors seems not to be an good idea. Most of the actors do normally play in other genres."
   ]
  },
  {
   "cell_type": "markdown",
   "metadata": {},
   "source": [
    "As can be seen above the job of the crew member alone is not very useful. We need the names with respect to the jobs."
   ]
  },
  {
   "cell_type": "code",
   "execution_count": 50,
   "metadata": {},
   "outputs": [],
   "source": [
    "#create function to get name by job \n",
    "def get_names(job):\n",
    "    \"\"\"function that gives out the name of a person defined by the persons job in the film crew\"\"\"\n",
    "    x = []\n",
    "\n",
    "    for i in range(smd.shape[0]):\n",
    "        values = [d[\"name\"] for d in smd[\"crew\"][i] if d[\"job\"] == f\"{job}\"]\n",
    "        x.append(values)\n",
    "    return x"
   ]
  },
  {
   "cell_type": "code",
   "execution_count": 51,
   "metadata": {},
   "outputs": [],
   "source": [
    "def jobs_to_column_and_string(job):\n",
    "    \"\"\"function to create two new columns in smd dataframe, one for the names by jobs and one where the lists of names are converted to strings\"\"\"\n",
    "\n",
    "    smd[job] = pd.Series(get_names(job))\n",
    "    smd[f\"{job}_str\"]= smd[job].apply(\" \".join)"
   ]
  },
  {
   "cell_type": "code",
   "execution_count": 52,
   "metadata": {},
   "outputs": [],
   "source": [
    "jobs_to_column_and_string(\"Director\")\n",
    "jobs_to_column_and_string(\"Writer\")\n",
    "jobs_to_column_and_string(\"Executive Producer\")"
   ]
  },
  {
   "cell_type": "markdown",
   "metadata": {},
   "source": [
    "But how to get the most common people per job? It might be useful for the recommender system to use only the popular ones. <br>\n",
    "I found this very useful website on how to deal with lists in pandas data frame : https://towardsdatascience.com/dealing-with-list-values-in-pandas-dataframes-a177e534f173"
   ]
  },
  {
   "cell_type": "code",
   "execution_count": 53,
   "metadata": {},
   "outputs": [],
   "source": [
    "#this function is from the notebook mentioned above. It coverts the series data into an 1D array\n",
    "def to_1D(series):\n",
    " return pd.Series([x for _list in series for x in _list])"
   ]
  },
  {
   "cell_type": "code",
   "execution_count": 54,
   "metadata": {},
   "outputs": [
    {
     "data": {
      "text/plain": [
       "Samuel L. Jackson    92\n",
       "Bruce Willis         71\n",
       "Robert De Niro       68\n",
       "John Goodman         67\n",
       "Matt Damon           64\n",
       "                     ..\n",
       "Ho Ban Le             1\n",
       "Vladimír Hrbek        1\n",
       "Jirí Mojzís           1\n",
       "Marta Andresová       1\n",
       "Romi Dames            1\n",
       "Length: 86598, dtype: int64"
      ]
     },
     "execution_count": 54,
     "metadata": {},
     "output_type": "execute_result"
    }
   ],
   "source": [
    "#extract most common actors\n",
    "to_1D(smd[\"actors\"]).value_counts()"
   ]
  },
  {
   "cell_type": "code",
   "execution_count": 55,
   "metadata": {},
   "outputs": [
    {
     "data": {
      "text/plain": [
       "Woody Allen          47\n",
       "Alfred Hitchcock     37\n",
       "Clint Eastwood       31\n",
       "Steven Spielberg     31\n",
       "Martin Scorsese      30\n",
       "                     ..\n",
       "Youssef Chahine       1\n",
       "Amos Gitai            1\n",
       "Idrissa Ouedraogo     1\n",
       "Janet Greek           1\n",
       "Todd Grimes           1\n",
       "Length: 4380, dtype: int64"
      ]
     },
     "execution_count": 55,
     "metadata": {},
     "output_type": "execute_result"
    }
   ],
   "source": [
    "#extract most common Directors\n",
    "to_1D(smd[\"Director\"]).value_counts()"
   ]
  },
  {
   "cell_type": "code",
   "execution_count": 56,
   "metadata": {},
   "outputs": [
    {
     "data": {
      "text/plain": [
       "Woody Allen         13\n",
       "Werner Herzog       10\n",
       "Asif Kapadia         9\n",
       "Bruno Dumont         8\n",
       "Andy Hedden          8\n",
       "                    ..\n",
       "Paolo Taviani        1\n",
       "Vittorio Taviani     1\n",
       "Trevor Farrant       1\n",
       "Gérard Jugnot        1\n",
       "Julian Radlmaier     1\n",
       "Length: 3803, dtype: int64"
      ]
     },
     "execution_count": 56,
     "metadata": {},
     "output_type": "execute_result"
    }
   ],
   "source": [
    "#extract most common Writer\n",
    "to_1D(smd[\"Writer\"]).value_counts()"
   ]
  },
  {
   "cell_type": "code",
   "execution_count": 57,
   "metadata": {},
   "outputs": [
    {
     "data": {
      "text/plain": [
       "independent film        613\n",
       "woman director          573\n",
       "murder                  398\n",
       "based on novel          336\n",
       "duringcreditsstinger    330\n",
       "                       ... \n",
       "holiday inn               1\n",
       "eminem                    1\n",
       "cannes                    1\n",
       "man punches woman         1\n",
       "legal system              1\n",
       "Length: 13195, dtype: int64"
      ]
     },
     "execution_count": 57,
     "metadata": {},
     "output_type": "execute_result"
    }
   ],
   "source": [
    "#extract most common keywords\n",
    "to_1D(smd[\"keywords\"]).value_counts()"
   ]
  },
  {
   "cell_type": "markdown",
   "metadata": {},
   "source": [
    "To get better recommendations it might be helpful to include a stemmer for NLP. E. g. the words holidays and holiday would have the same stem and would euqually be recognized in the movie descriptions or keywors."
   ]
  },
  {
   "cell_type": "code",
   "execution_count": 58,
   "metadata": {},
   "outputs": [],
   "source": [
    "#define stemmer\n",
    "stemmer = SnowballStemmer('english')"
   ]
  },
  {
   "cell_type": "code",
   "execution_count": 59,
   "metadata": {},
   "outputs": [
    {
     "data": {
      "text/plain": [
       "'holiday'"
      ]
     },
     "execution_count": 59,
     "metadata": {},
     "output_type": "execute_result"
    }
   ],
   "source": [
    "#checkb\n",
    "stemmer.stem(\"holidays\")"
   ]
  },
  {
   "cell_type": "code",
   "execution_count": 60,
   "metadata": {},
   "outputs": [],
   "source": [
    "#apply stemmer to pd.Series\n",
    "smd['stemmed_keywords'] = smd['keywords'].apply(lambda x: [stemmer.stem(y) for y in x]) # Stem every word\n"
   ]
  },
  {
   "cell_type": "code",
   "execution_count": 61,
   "metadata": {},
   "outputs": [
    {
     "data": {
      "text/plain": [
       "0       [jealousi, toy, boy, friendship, friend, rival...\n",
       "1       [board gam, disappear, based on children's boo...\n",
       "2        [fish, best friend, duringcreditssting, old men]\n",
       "3       [based on novel, interracial relationship, sin...\n",
       "4       [babi, midlife crisi, confid, age, daughter, m...\n",
       "                              ...                        \n",
       "9652                                             [absurd]\n",
       "9653                                                   []\n",
       "9654                                                   []\n",
       "9655                                                   []\n",
       "9656                                    [superhero, lego]\n",
       "Name: stemmed_keywords, Length: 9657, dtype: object"
      ]
     },
     "execution_count": 61,
     "metadata": {},
     "output_type": "execute_result"
    }
   ],
   "source": [
    "smd.stemmed_keywords"
   ]
  },
  {
   "cell_type": "markdown",
   "metadata": {},
   "source": [
    "### Model with overview, actors and keywords"
   ]
  },
  {
   "cell_type": "markdown",
   "metadata": {},
   "source": [
    "What if Keywords are added to the model with overview and actors? Do the keywords offset the actors?"
   ]
  },
  {
   "cell_type": "code",
   "execution_count": 62,
   "metadata": {},
   "outputs": [
    {
     "data": {
      "text/plain": [
       "Index(['index', 'adult', 'belongs_to_collection', 'budget', 'genres',\n",
       "       'homepage', 'id', 'imdb_id', 'original_language', 'original_title',\n",
       "       'overview', 'popularity', 'poster_path', 'production_companies',\n",
       "       'production_countries', 'release_date', 'revenue', 'runtime',\n",
       "       'spoken_languages', 'status', 'tagline', 'title', 'video',\n",
       "       'vote_average', 'vote_count', 'cast', 'crew', 'keywords', 'crew_jobs',\n",
       "       'actors', 'description', 'Director', 'Director_str', 'Writer',\n",
       "       'Writer_str', 'Executive Producer', 'Executive Producer_str',\n",
       "       'stemmed_keywords'],\n",
       "      dtype='object')"
      ]
     },
     "execution_count": 62,
     "metadata": {},
     "output_type": "execute_result"
    }
   ],
   "source": [
    "#show columns\n",
    "smd.columns"
   ]
  },
  {
   "cell_type": "code",
   "execution_count": 63,
   "metadata": {},
   "outputs": [
    {
     "name": "stderr",
     "output_type": "stream",
     "text": [
      "/var/folders/0f/5nqwl_8j7n1dmfgmn2m0tztw0000gn/T/ipykernel_17254/1602183610.py:2: UserWarning: Pandas doesn't allow columns to be created via a new attribute name - see https://pandas.pydata.org/pandas-docs/stable/indexing.html#attribute-access\n",
      "  smd.stemmed_keywords_str = smd.stemmed_keywords.apply(\" \".join)\n"
     ]
    }
   ],
   "source": [
    "#convert list to string and create column with strings \n",
    "smd.stemmed_keywords_str = smd.stemmed_keywords.apply(\" \".join)"
   ]
  },
  {
   "cell_type": "code",
   "execution_count": 64,
   "metadata": {},
   "outputs": [
    {
     "data": {
      "text/plain": [
       "'jealousi toy boy friendship friend rivalri boy next door new toy toy comes to lif'"
      ]
     },
     "execution_count": 64,
     "metadata": {},
     "output_type": "execute_result"
    }
   ],
   "source": [
    "# inspect first element\n",
    "smd.stemmed_keywords_str[0]"
   ]
  },
  {
   "cell_type": "markdown",
   "metadata": {},
   "source": [
    "Lets compare the recommendation with the model with overview and actors. The results from that model were:\n",
    " \n",
    "                            The Green Mile\n",
    "7402                       Never Let Me Go\n",
    "853                                The Fog\n",
    "1383                            Henry Fool\n",
    "4087                    The Quiet American\n",
    "1694    The Fiendish Plot of Dr. Fu Manchu\n",
    "1215                        Kiss the Girls\n",
    "2082                               Head On\n",
    "955                                      M\n",
    "8350                                  Noah\n",
    "\n",
    "As can be seen, there is huge overlap between the models with and without keywords. "
   ]
  },
  {
   "cell_type": "markdown",
   "metadata": {},
   "source": [
    "Let's choose another film"
   ]
  },
  {
   "cell_type": "code",
   "execution_count": 66,
   "metadata": {},
   "outputs": [
    {
     "data": {
      "text/plain": [
       "6747                            St. Trinian's\n",
       "4702                 The Secret of My Success\n",
       "6039                                    CRAZY\n",
       "6907             Blackadder's Christmas Carol\n",
       "3087                           Sweet November\n",
       "6380    Wake Up, Ron Burgundy: The Lost Movie\n",
       "7629           My Afternoons with Margueritte\n",
       "7567                              Bridesmaids\n",
       "6386                                   Breach\n",
       "7482                     I Spit on Your Grave\n",
       "Name: title, dtype: object"
      ]
     },
     "execution_count": 66,
     "metadata": {},
     "output_type": "execute_result"
    }
   ],
   "source": [
    "get_recommendations(\"Moon\")[:10]"
   ]
  },
  {
   "cell_type": "markdown",
   "metadata": {},
   "source": [
    "As can be seen above the recommendations are not as specific, as we would have expected them. This might be due to the actors which make the recommendations more diverse. To check this let's make a recommandation based on description and keywords."
   ]
  },
  {
   "cell_type": "code",
   "execution_count": 67,
   "metadata": {},
   "outputs": [
    {
     "data": {
      "text/plain": [
       "6747                            St. Trinian's\n",
       "6907             Blackadder's Christmas Carol\n",
       "4702                 The Secret of My Success\n",
       "6380    Wake Up, Ron Burgundy: The Lost Movie\n",
       "6726                         Sex and the City\n",
       "607                                     Heavy\n",
       "7567                              Bridesmaids\n",
       "3087                           Sweet November\n",
       "5446                      Au Hasard Balthazar\n",
       "6347               Curse of the Golden Flower\n",
       "Name: title, dtype: object"
      ]
     },
     "execution_count": 67,
     "metadata": {},
     "output_type": "execute_result"
    }
   ],
   "source": [
    "#data frame for model with keywords, overview and actors\n",
    "smd['soup'] = smd.stemmed_keywords_str + smd.overview \n",
    "\n",
    "# NLP\n",
    "tf = TfidfVectorizer(analyzer='word',ngram_range=(1, 2),min_df=0, stop_words='english')\n",
    "tfidf_matrix = tf.fit_transform(smd['soup'].values.astype('U')) #converts to type unicode\n",
    "\n",
    "#calculate similarity with cosine similarity measure\n",
    "cosine_sim = linear_kernel(tfidf_matrix, tfidf_matrix)\n",
    "\n",
    "#recommendataion\n",
    "get_recommendations(\"Moon\")[:10]"
   ]
  },
  {
   "cell_type": "markdown",
   "metadata": {},
   "source": [
    "We would have expected more space movies."
   ]
  },
  {
   "cell_type": "code",
   "execution_count": null,
   "metadata": {},
   "outputs": [
    {
     "data": {
      "text/plain": [
       "7402                Never Let Me Go\n",
       "2365                 The Green Mile\n",
       "6018                      Manderlay\n",
       "853                         The Fog\n",
       "2402                       Papillon\n",
       "6465    I'm a Cyborg, But That's OK\n",
       "1523                    BASEketball\n",
       "6387           Daddy's Little Girls\n",
       "9256                   Jason Bourne\n",
       "9257                The Maid's Room\n",
       "Name: title, dtype: object"
      ]
     },
     "execution_count": 294,
     "metadata": {},
     "output_type": "execute_result"
    }
   ],
   "source": [
    "#data frame for model with keywords, overview and actors\n",
    "smd['soup'] = smd.overview\n",
    "\n",
    "# NLP\n",
    "tf = TfidfVectorizer(analyzer='word',ngram_range=(1, 2),min_df=0, stop_words='english')\n",
    "tfidf_matrix = tf.fit_transform(smd['soup'].values.astype('U')) #converts to type unicode\n",
    "\n",
    "#calculate similarity with cosine similarity measure\n",
    "cosine_sim = linear_kernel(tfidf_matrix, tfidf_matrix)\n",
    "\n",
    "#recommendataion\n",
    "get_recommendations(\"Toy Story\")[:10]"
   ]
  },
  {
   "cell_type": "markdown",
   "metadata": {},
   "source": [
    "### New vectorizer"
   ]
  },
  {
   "cell_type": "markdown",
   "metadata": {},
   "source": [
    "Let's try another vectorizer "
   ]
  },
  {
   "cell_type": "code",
   "execution_count": null,
   "metadata": {},
   "outputs": [],
   "source": [
    "#use CountVectorizer for NLP\n",
    "count = CountVectorizer(analyzer='word',ngram_range=(1, 2),min_df=0, stop_words='english')\n",
    "count_matrix = count.fit_transform(smd['soup'].values.astype('U'))\n",
    "#calculate similarity\n",
    "cosine_sim = cosine_similarity(count_matrix, count_matrix)"
   ]
  },
  {
   "cell_type": "code",
   "execution_count": null,
   "metadata": {},
   "outputs": [],
   "source": [
    "smd = smd.reset_index()\n",
    "titles = smd['title']\n",
    "indices = pd.Series(smd.index, index=smd['title'])"
   ]
  },
  {
   "cell_type": "code",
   "execution_count": null,
   "metadata": {},
   "outputs": [
    {
     "data": {
      "text/plain": [
       "2365               Toy Story 2\n",
       "7402               Toy Story 3\n",
       "6018    The 40 Year Old Virgin\n",
       "6465              Factory Girl\n",
       "2402           Man on the Moon\n",
       "4808          Rivers and Tides\n",
       "853      Rebel Without a Cause\n",
       "1523                 Condorman\n",
       "427                     Malice\n",
       "394          For Love or Money\n",
       "Name: title, dtype: object"
      ]
     },
     "execution_count": 297,
     "metadata": {},
     "output_type": "execute_result"
    }
   ],
   "source": [
    "#recommendataion\n",
    "get_recommendations(\"Toy Story\")[:10]"
   ]
  },
  {
   "cell_type": "markdown",
   "metadata": {},
   "source": [
    "The countvectorizer seems to do give more reasonable recommendations."
   ]
  },
  {
   "cell_type": "markdown",
   "metadata": {},
   "source": []
  },
  {
   "cell_type": "markdown",
   "metadata": {},
   "source": [
    "### New test models"
   ]
  },
  {
   "cell_type": "markdown",
   "metadata": {},
   "source": [
    "### Countvectorizer models"
   ]
  },
  {
   "cell_type": "markdown",
   "metadata": {},
   "source": [
    "#### model with description"
   ]
  },
  {
   "cell_type": "code",
   "execution_count": 68,
   "metadata": {},
   "outputs": [
    {
     "data": {
      "text/plain": [
       "2365               Toy Story 2\n",
       "7402               Toy Story 3\n",
       "6018    The 40 Year Old Virgin\n",
       "6465              Factory Girl\n",
       "2402           Man on the Moon\n",
       "4808          Rivers and Tides\n",
       "853      Rebel Without a Cause\n",
       "1523                 Condorman\n",
       "427                     Malice\n",
       "394          For Love or Money\n",
       "Name: title, dtype: object"
      ]
     },
     "execution_count": 68,
     "metadata": {},
     "output_type": "execute_result"
    }
   ],
   "source": [
    "#data frame for model with keywords, overview and actors\n",
    "smd['text'] = smd.overview\n",
    "\n",
    "#use CountVectorizer for NLP\n",
    "count = CountVectorizer(analyzer='word',ngram_range=(1, 2),min_df=0, stop_words='english')\n",
    "count_matrix = count.fit_transform(smd['text'].values.astype('U'))\n",
    "#calculate similarity\n",
    "cosine_sim = cosine_similarity(count_matrix, count_matrix)\n",
    "\n",
    "# \n",
    "smd = smd.reset_index()\n",
    "titles = smd['title']\n",
    "indices = pd.Series(smd.index, index=smd['title'])\n",
    "\n",
    "#recommendataion\n",
    "get_recommendations(\"Toy Story\")[:10]"
   ]
  },
  {
   "cell_type": "code",
   "execution_count": 69,
   "metadata": {},
   "outputs": [
    {
     "data": {
      "text/plain": [
       "534     All Dogs Go to Heaven 2\n",
       "936             A Grand Day Out\n",
       "3671                   I Am Sam\n",
       "7892    Space Battleship Yamato\n",
       "505                       Ghost\n",
       "1819         Cocoon: The Return\n",
       "142                     Hackers\n",
       "1818                     Cocoon\n",
       "7841                  Apollo 18\n",
       "823                    Swingers\n",
       "Name: title, dtype: object"
      ]
     },
     "execution_count": 69,
     "metadata": {},
     "output_type": "execute_result"
    }
   ],
   "source": [
    "get_recommendations(\"Moon\")[:10]"
   ]
  },
  {
   "cell_type": "code",
   "execution_count": 92,
   "metadata": {},
   "outputs": [
    {
     "data": {
      "text/plain": [
       "6752                            The Dark Knight\n",
       "509                                      Batman\n",
       "7427                 Batman: Under the Red Hood\n",
       "7811                      The Dark Knight Rises\n",
       "1185                             Batman & Robin\n",
       "1072                             Batman Returns\n",
       "8996         Batman v Superman: Dawn of Justice\n",
       "8074    Batman: The Dark Knight Returns, Part 1\n",
       "8275            Batman: Mystery of the Batwoman\n",
       "7776                           Batman: Year One\n",
       "Name: title, dtype: object"
      ]
     },
     "execution_count": 92,
     "metadata": {},
     "output_type": "execute_result"
    }
   ],
   "source": [
    "#recommendataion\n",
    "get_recommendations(\"Batman Begins\")[:10]"
   ]
  },
  {
   "cell_type": "markdown",
   "metadata": {},
   "source": [
    "This model seems to predict reasonable movies e.g. other space movies"
   ]
  },
  {
   "cell_type": "markdown",
   "metadata": {},
   "source": [
    "#### model with descriptions + keywords "
   ]
  },
  {
   "cell_type": "code",
   "execution_count": 78,
   "metadata": {},
   "outputs": [],
   "source": [
    "#convert list to string and create column with strings \n",
    "smd.keywords_str = smd.keywords.apply(\" \".join)"
   ]
  },
  {
   "cell_type": "code",
   "execution_count": 90,
   "metadata": {},
   "outputs": [
    {
     "data": {
      "text/plain": [
       "2365                   Toy Story 2\n",
       "7402                   Toy Story 3\n",
       "1412                Small Soldiers\n",
       "53      The Indian in the Cupboard\n",
       "6018        The 40 Year Old Virgin\n",
       "1479                Child's Play 3\n",
       "1478                Child's Play 2\n",
       "1477                  Child's Play\n",
       "5124                         Dolls\n",
       "1685                          Toys\n",
       "Name: title, dtype: object"
      ]
     },
     "execution_count": 90,
     "metadata": {},
     "output_type": "execute_result"
    }
   ],
   "source": [
    "#data frame for model with keywords, overview and actors\n",
    "smd['text'] = smd.overview + smd.keywords_str\n",
    "\n",
    "#use CountVectorizer for NLP\n",
    "count = CountVectorizer(analyzer='word',ngram_range=(1, 2),min_df=0, stop_words='english')\n",
    "count_matrix = count.fit_transform(smd['text'].values.astype('U'))\n",
    "#calculate similarity\n",
    "cosine_sim = cosine_similarity(count_matrix, count_matrix)\n",
    "\n",
    "#recommendataion\n",
    "get_recommendations(\"Toy Story\")[:10]"
   ]
  },
  {
   "cell_type": "code",
   "execution_count": 81,
   "metadata": {},
   "outputs": [
    {
     "data": {
      "text/plain": [
       "712            2001: A Space Odyssey\n",
       "936                  A Grand Day Out\n",
       "7841                       Apollo 18\n",
       "3148                        The Dish\n",
       "3953    The Adventures of Pluto Nash\n",
       "5914              A Trip to the Moon\n",
       "8569                        Automata\n",
       "8697                   Space Buddies\n",
       "5995                         Stealth\n",
       "1272               Starship Troopers\n",
       "Name: title, dtype: object"
      ]
     },
     "execution_count": 81,
     "metadata": {},
     "output_type": "execute_result"
    }
   ],
   "source": [
    "get_recommendations(\"Moon\")[:10]"
   ]
  },
  {
   "cell_type": "code",
   "execution_count": 91,
   "metadata": {},
   "outputs": [
    {
     "data": {
      "text/plain": [
       "6752                            The Dark Knight\n",
       "509                                      Batman\n",
       "7427                 Batman: Under the Red Hood\n",
       "7811                      The Dark Knight Rises\n",
       "1185                             Batman & Robin\n",
       "1072                             Batman Returns\n",
       "8996         Batman v Superman: Dawn of Justice\n",
       "8074    Batman: The Dark Knight Returns, Part 1\n",
       "8275            Batman: Mystery of the Batwoman\n",
       "7776                           Batman: Year One\n",
       "Name: title, dtype: object"
      ]
     },
     "execution_count": 91,
     "metadata": {},
     "output_type": "execute_result"
    }
   ],
   "source": [
    "#recommendataion\n",
    "get_recommendations(\"Batman Begins\")[:10]"
   ]
  },
  {
   "cell_type": "markdown",
   "metadata": {},
   "source": [
    "Both recommendations seem to give more accurate movie recommendations"
   ]
  },
  {
   "cell_type": "markdown",
   "metadata": {},
   "source": [
    "#### model with description + keywords + actors"
   ]
  },
  {
   "cell_type": "code",
   "execution_count": 85,
   "metadata": {},
   "outputs": [
    {
     "name": "stderr",
     "output_type": "stream",
     "text": [
      "/var/folders/0f/5nqwl_8j7n1dmfgmn2m0tztw0000gn/T/ipykernel_17254/3472090846.py:2: UserWarning: Pandas doesn't allow columns to be created via a new attribute name - see https://pandas.pydata.org/pandas-docs/stable/indexing.html#attribute-access\n",
      "  smd.actors_str = smd.actors.apply(\" \".join)\n"
     ]
    }
   ],
   "source": [
    "#convert list to string and create column with strings \n",
    "smd.actors_str = smd.actors.apply(\" \".join)"
   ]
  },
  {
   "cell_type": "code",
   "execution_count": 86,
   "metadata": {},
   "outputs": [
    {
     "data": {
      "text/plain": [
       "2365          Toy Story 2\n",
       "7402          Toy Story 3\n",
       "1412       Small Soldiers\n",
       "5124                Dolls\n",
       "1477         Child's Play\n",
       "2114                  Big\n",
       "1685                 Toys\n",
       "1837    The Thin Red Line\n",
       "1263              Stripes\n",
       "2536                  JFK\n",
       "Name: title, dtype: object"
      ]
     },
     "execution_count": 86,
     "metadata": {},
     "output_type": "execute_result"
    }
   ],
   "source": [
    "#data frame for model with keywords, overview and actors\n",
    "smd['text'] = smd.overview + smd.keywords_str + smd.actors_str\n",
    "\n",
    "#use CountVectorizer for NLP\n",
    "count = CountVectorizer(analyzer='word',ngram_range=(1, 2),min_df=0, stop_words='english')\n",
    "count_matrix = count.fit_transform(smd['text'].values.astype('U'))\n",
    "#calculate similarity\n",
    "cosine_sim = cosine_similarity(count_matrix, count_matrix)\n",
    "\n",
    "#recommendataion\n",
    "get_recommendations(\"Toy Story\")[:10]"
   ]
  },
  {
   "cell_type": "code",
   "execution_count": 87,
   "metadata": {},
   "outputs": [
    {
     "data": {
      "text/plain": [
       "936                  A Grand Day Out\n",
       "7841                       Apollo 18\n",
       "5914              A Trip to the Moon\n",
       "3953    The Adventures of Pluto Nash\n",
       "3148                        The Dish\n",
       "712            2001: A Space Odyssey\n",
       "7530                    TRON: Legacy\n",
       "6730                        Semi-Pro\n",
       "3875                  Silent Running\n",
       "7071            Terminator Salvation\n",
       "Name: title, dtype: object"
      ]
     },
     "execution_count": 87,
     "metadata": {},
     "output_type": "execute_result"
    }
   ],
   "source": [
    "#recommendataion\n",
    "get_recommendations(\"Moon\")[:10]"
   ]
  },
  {
   "cell_type": "code",
   "execution_count": 88,
   "metadata": {},
   "outputs": [
    {
     "data": {
      "text/plain": [
       "7811           The Dark Knight Rises\n",
       "6752                 The Dark Knight\n",
       "1997                        Superman\n",
       "1170               The Fifth Element\n",
       "509                           Batman\n",
       "6359                    The Departed\n",
       "4726                           Hoffa\n",
       "7427      Batman: Under the Red Hood\n",
       "3123    The Greatest Story Ever Told\n",
       "6572                        Stardust\n",
       "Name: title, dtype: object"
      ]
     },
     "execution_count": 88,
     "metadata": {},
     "output_type": "execute_result"
    }
   ],
   "source": [
    "#recommendataion\n",
    "get_recommendations(\"Batman Begins\")[:10]"
   ]
  },
  {
   "cell_type": "markdown",
   "metadata": {},
   "source": [
    "This model brings more diversity into the recommendations"
   ]
  },
  {
   "cell_type": "markdown",
   "metadata": {},
   "source": [
    "#### model with descrition + keywords + top actors"
   ]
  },
  {
   "cell_type": "markdown",
   "metadata": {},
   "source": [
    "#### data preparation"
   ]
  },
  {
   "cell_type": "markdown",
   "metadata": {},
   "source": [
    "Not every actor might be important for a recommendation. So let's focus on the popular actors. "
   ]
  },
  {
   "cell_type": "code",
   "execution_count": 109,
   "metadata": {},
   "outputs": [
    {
     "data": {
      "text/plain": [
       "Samuel L. Jackson    92\n",
       "Bruce Willis         71\n",
       "Robert De Niro       68\n",
       "dtype: int64"
      ]
     },
     "execution_count": 109,
     "metadata": {},
     "output_type": "execute_result"
    }
   ],
   "source": [
    "#extract most common actors\n",
    "pop_actors = pd.Series(to_1D(smd[\"actors\"]).value_counts())\n",
    "pop_actors[:3]"
   ]
  },
  {
   "cell_type": "markdown",
   "metadata": {},
   "source": [
    "Let's see how the actors are distributed"
   ]
  },
  {
   "cell_type": "code",
   "execution_count": 98,
   "metadata": {},
   "outputs": [
    {
     "name": "stderr",
     "output_type": "stream",
     "text": [
      "/Users/alexandrazimmermann/neue_fische/recommender-system-capstone/.venv/lib/python3.9/site-packages/seaborn/_decorators.py:36: FutureWarning: Pass the following variable as a keyword arg: x. From version 0.12, the only valid positional argument will be `data`, and passing other arguments without an explicit keyword will result in an error or misinterpretation.\n",
      "  warnings.warn(\n"
     ]
    },
    {
     "data": {
      "text/plain": [
       "<AxesSubplot:ylabel='count'>"
      ]
     },
     "execution_count": 98,
     "metadata": {},
     "output_type": "execute_result"
    },
    {
     "data": {
      "image/png": "[encoded data removed]",
      "text/plain": [
       "<Figure size 432x288 with 1 Axes>"
      ]
     },
     "metadata": {
      "needs_background": "light"
     },
     "output_type": "display_data"
    }
   ],
   "source": [
    "sns.countplot(pop_actors)"
   ]
  },
  {
   "cell_type": "markdown",
   "metadata": {},
   "source": [
    "As can be seen above most of the actors do only play in one Movie. "
   ]
  },
  {
   "cell_type": "code",
   "execution_count": 110,
   "metadata": {},
   "outputs": [
    {
     "data": {
      "text/plain": [
       "Samuel L. Jackson     92\n",
       "Bruce Willis          71\n",
       "Robert De Niro        68\n",
       "John Goodman          67\n",
       "Matt Damon            64\n",
       "Steve Buscemi         61\n",
       "Morgan Freeman        61\n",
       "Robin Williams        59\n",
       "Frank Welker          59\n",
       "Jackie Chan           58\n",
       "Richard Jenkins       57\n",
       "Liam Neeson           57\n",
       "Christopher Walken    57\n",
       "Michael Caine         56\n",
       "Stanley Tucci         56\n",
       "Johnny Depp           56\n",
       "Bess Flowers          55\n",
       "Donald Sutherland     55\n",
       "Nicolas Cage          54\n",
       "Willem Dafoe          54\n",
       "dtype: int64"
      ]
     },
     "execution_count": 110,
     "metadata": {},
     "output_type": "execute_result"
    }
   ],
   "source": [
    "pop_actors[:20]"
   ]
  },
  {
   "cell_type": "markdown",
   "metadata": {},
   "source": [
    "#### model"
   ]
  },
  {
   "cell_type": "markdown",
   "metadata": {},
   "source": [
    "#### model with description + keywords + actors + director"
   ]
  },
  {
   "cell_type": "code",
   "execution_count": 118,
   "metadata": {},
   "outputs": [
    {
     "data": {
      "text/plain": [
       "2365               Toy Story 2\n",
       "7402               Toy Story 3\n",
       "1412            Small Soldiers\n",
       "5124                     Dolls\n",
       "2114                       Big\n",
       "1685                      Toys\n",
       "1477              Child's Play\n",
       "4500    What's Up, Tiger Lily?\n",
       "1837         The Thin Red Line\n",
       "4138           Treasure Planet\n",
       "Name: title, dtype: object"
      ]
     },
     "execution_count": 118,
     "metadata": {},
     "output_type": "execute_result"
    }
   ],
   "source": [
    "#data frame for model with keywords, overview and actors\n",
    "smd['text'] = smd.overview + smd.keywords_str + smd.actors_str +smd.Director_str\n",
    "#use CountVectorizer for NLP\n",
    "count = CountVectorizer(analyzer='word',ngram_range=(1, 2),min_df=0, stop_words='english')\n",
    "count_matrix = count.fit_transform(smd['text'].values.astype('U'))\n",
    "#calculate similarity\n",
    "cosine_sim = cosine_similarity(count_matrix, count_matrix)\n",
    "\n",
    "#recommendataion\n",
    "get_recommendations(\"Toy Story\")[:10]"
   ]
  },
  {
   "cell_type": "code",
   "execution_count": 120,
   "metadata": {},
   "outputs": [
    {
     "data": {
      "text/plain": [
       "numpy.ndarray"
      ]
     },
     "execution_count": 120,
     "metadata": {},
     "output_type": "execute_result"
    }
   ],
   "source": [
    "type(cosine_sim)"
   ]
  },
  {
   "cell_type": "code",
   "execution_count": 112,
   "metadata": {},
   "outputs": [
    {
     "data": {
      "text/plain": [
       "936                  A Grand Day Out\n",
       "7841                       Apollo 18\n",
       "5914              A Trip to the Moon\n",
       "3953    The Adventures of Pluto Nash\n",
       "3148                        The Dish\n",
       "712            2001: A Space Odyssey\n",
       "7530                    TRON: Legacy\n",
       "6730                        Semi-Pro\n",
       "3875                  Silent Running\n",
       "7071            Terminator Salvation\n",
       "Name: title, dtype: object"
      ]
     },
     "execution_count": 112,
     "metadata": {},
     "output_type": "execute_result"
    }
   ],
   "source": [
    "#recommendataion\n",
    "get_recommendations(\"Moon\")[:10]"
   ]
  },
  {
   "cell_type": "code",
   "execution_count": 113,
   "metadata": {},
   "outputs": [
    {
     "data": {
      "text/plain": [
       "7811           The Dark Knight Rises\n",
       "6752                 The Dark Knight\n",
       "1997                        Superman\n",
       "1170               The Fifth Element\n",
       "509                           Batman\n",
       "6359                    The Departed\n",
       "4726                           Hoffa\n",
       "7427      Batman: Under the Red Hood\n",
       "3123    The Greatest Story Ever Told\n",
       "6817                       Get Smart\n",
       "Name: title, dtype: object"
      ]
     },
     "execution_count": 113,
     "metadata": {},
     "output_type": "execute_result"
    }
   ],
   "source": [
    "#recommendataion\n",
    "get_recommendations(\"Batman Begins\")[:10]"
   ]
  },
  {
   "cell_type": "code",
   "execution_count": 114,
   "metadata": {},
   "outputs": [
    {
     "data": {
      "text/plain": [
       "4137                  Solaris\n",
       "1409               Armageddon\n",
       "3875           Silent Running\n",
       "7811    The Dark Knight Rises\n",
       "3542                SpaceCamp\n",
       "943           The Right Stuff\n",
       "5270             Dear Frankie\n",
       "1730                     2010\n",
       "6838      Stargate: Continuum\n",
       "2296               Spaceballs\n",
       "Name: title, dtype: object"
      ]
     },
     "execution_count": 114,
     "metadata": {},
     "output_type": "execute_result"
    }
   ],
   "source": [
    "#recommendataion\n",
    "get_recommendations(\"Interstellar\")[:10]"
   ]
  },
  {
   "cell_type": "markdown",
   "metadata": {},
   "source": [
    "This model seems also to give reasonable recommendations"
   ]
  },
  {
   "cell_type": "code",
   "execution_count": null,
   "metadata": {},
   "outputs": [],
   "source": []
  }
 ],
 "metadata": {
  "interpreter": {
   "hash": "bce42d5092efaaae39b5a3cefbe2e5b346db76dfaddccc88e2b49dcdcbce254f"
  },
  "kernelspec": {
   "display_name": "Python 3.9.4 64-bit ('.venv': venv)",
   "name": "python3"
  },
  "language_info": {
   "codemirror_mode": {
    "name": "ipython",
    "version": 3
   },
   "file_extension": ".py",
   "mimetype": "text/x-python",
   "name": "python",
   "nbconvert_exporter": "python",
   "pygments_lexer": "ipython3",
   "version": "3.9.4"
  },
  "orig_nbformat": 4
 },
 "nbformat": 4,
 "nbformat_minor": 2
}
